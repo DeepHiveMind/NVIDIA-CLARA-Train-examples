{
  "cells": [
    {
      "cell_type": "markdown",
      "metadata": {
        "collapsed": true,
        "pycharm": {
          "name": "#%% md\n"
        }
      },
      "source": "# Bring your own components (BYOC)\n\nStarting in V4 Clara train is based of MONAI \nfrom their website \n\"The MONAI framework is the open-source foundation being created by Project MONAI. \nMONAI is a freely available, community-supported, \nPyTorch-based framework for deep learning in healthcare imaging. \nIt provides domain-optimized foundational capabilities for developing healthcare imaging training workflows in a native PyTorch paradigm.\"\n\u003cbr\u003e\u003cimg src\u003d\"screenShots/MONAI.png\" alt\u003d\"Drawing\" style\u003d\"height: 200px;width: 400px\"/\u003e\u003cbr\u003e\n"
    },
    {
      "cell_type": "markdown",
      "source": "Clara Train SDK is modular and flexible enough to allow researchers to bring their own components including:\n1. [Transformations](https://docs.monai.io/en/latest/transforms.html#) \n2. [Loss functions](https://docs.monai.io/en/latest/losses.html)\n3. [Model Architecture](https://docs.monai.io/en/latest/networks.html)\n4. [Loaders](https://docs.nvidia.com/clara/tlt-mi/clara-train-sdk-v3.0/nvmidl/byom.html#bring-your-own-data-loader)\n5. [Metrics](https://docs.monai.io/en/latest/metrics.html)\n\nBy the end of this notebook you should be able to bring your own components mentioned above.\n",
      "metadata": {
        "pycharm": {
          "metadata": false
        }
      }
    },
    {
      "cell_type": "markdown",
      "metadata": {
        "pycharm": {
          "metadata": false
        }
      },
      "source": "## Prerequisites\n- Familiar with Clara train main concepts. See [Getting Started Notebook](../GettingStarted/GettingStarted.ipynb)\n- Nvidia GPU with 8Gb of memory   \n"
    },
    {
      "cell_type": "markdown",
      "metadata": {
        "pycharm": {
          "metadata": false
        }
      },
      "source": "## Resources\nYou could watch the free GTC 2021 talks covering Clara Train SDK\n- [Clara Train 4.0 - 101 Getting Started [SE2688]](https://gtc21.event.nvidia.com/media/Clara%20Train%204.0%20-%20101%20Getting%20Started%20%5BSE2688%5D/1_0qgfrql2)\n- [Clara Train 4.0 - 201 Federated Learning [SE3208]](https://gtc21.event.nvidia.com/media/Clara%20Train%204.0%20-%20201%20Federated%20Learning%20%5BSE3208%5D/1_m48t6b3y)\n- [What’s New in Clara Train 4.0 [D3114]](https://gtc21.event.nvidia.com/media/What%E2%80%99s%20New%20in%20Clara%20Train%204.0%20%5BD3114%5D/1_umvjidt2)\n- [Take Medical AI from Concept to Production using Clara Imaging [S32482]](https://gtc21.event.nvidia.com/media/Take%20Medical%20AI%20from%20Concept%20to%20Production%20using%20Clara%20Imaging%20%20%5BS32482%5D/1_6bvnvyg7)\n- [Federated Learning for Medical AI [S32530]](https://gtc21.event.nvidia.com/media/Federated%20Learning%20for%20Medical%20AI%20%5BS32530%5D/1_z26u15uk)\n- [Get Started Now on Medical Imaging AI with Clara Train on Google Cloud Platform [S32518]](https://gtc21.event.nvidia.com/media/Get%20Started%20Now%20on%20Medical%20Imaging%20AI%20with%20Clara%20Train%20on%20Google%20Cloud%20Platform%20%5BS32518%5D/1_2yjdekmi)\n- [Automate 3D Medical Imaging Segmentation with AutoML and Neural Architecture Search [S32083]](https://gtc21.event.nvidia.com/media/Automate%203D%20Medical%20Imaging%20Segmentation%20with%20AutoML%20and%20Neural%20Architecture%20Search%20%5BS32083%5D/1_r5swh2jn)\n- [A Platform for Rapid Development and Clinical Translation of ML Models for Applications in Radiology at UCSF [S31619]](https://gtc21.event.nvidia.com/media/A%20Platform%20for%20Rapid%20Development%20and%20Clinical%20Translation%20of%20ML%20Models%20for%20Applications%20in%20Radiology%20at%20UCSF%20%5BS31619%5D/1_oz8qop5a)\n"
    },
    {
      "cell_type": "markdown",
      "metadata": {
        "pycharm": {
          "metadata": false
        }
      },
      "source": [
        "## Dataset \n",
        "This notebook uses a sample dataset (ie. a single image of a spleen dataset) provided in the package to train a small neural network for a few epochs. \n",
        "This single file is duplicated 32 times for the training set and 9 times for the validation set to mimic the full spleen dataset. \n",
        "    "
      ]
    },
    {
      "cell_type": "markdown",
      "metadata": {
        "pycharm": {
          "metadata": false
        }
      },
      "source": [
        "# Lets get started\n",
        "It is helpful to check that we have an NVIDIA GPU available in the docker by running the cell below"
      ]
    },
    {
      "cell_type": "code",
      "execution_count": null,
      "metadata": {
        "pycharm": {
          "metadata": false,
          "name": "#%%\n"
        }
      },
      "outputs": [],
      "source": [
        "# following command should show all gpus available \n",
        "!nvidia-smi"
      ]
    },
    {
      "cell_type": "markdown",
      "metadata": {
        "pycharm": {
          "metadata": false
        }
      },
      "source": "## 1.1 General Concept\nYou can easily BYOC into Clara Train SDK by writing your python code then point to it in the `config.json` using `path` instead of the `name` tag. \nThroughout this notebook we have placed all of our examples from our documentations into the [BYOC](BYOC) folder. \n\nNormal | BYOC  \n --- | ---  \n{\u003cbr\u003e\"name\": \"CropFixedSizeRandomCenter\", \u003cbr\u003e \"args\": {\"fields\": \"image\"}\u003cbr\u003e } | { \u003cbr\u003e \"path\": \"myTransformation.MyAddRandomConstant\", \u003cbr\u003e \"args\": {\"fields\": \"image\"}\u003cbr\u003e } \n\n \nWe modified the [set_env.sh](commands/set_env.sh) to include the path. \nLet us run the cells below that define some helper functions we will be using and see where we added the BYOC to the pythonpath\n"
    },
    {
      "cell_type": "code",
      "execution_count": null,
      "metadata": {
        "pycharm": {
          "metadata": false,
          "name": "#%%\n"
        }
      },
      "outputs": [],
      "source": "MMAR_ROOT\u003d\"/claraDevDay/GettingStarted/\"\nprint (\"setting MMAR_ROOT\u003d\",MMAR_ROOT)\n%ls $MMAR_ROOT\n\n!chmod 777 $MMAR_ROOT/commands/*\ndef printFile(filePath,lnSt,lnEnd):\n    print (\"showing \",str(lnEnd-lnSt),\" lines from file \",filePath, \"starting at line\",str(lnSt))\n    !\u003c $filePath head -n \"$lnEnd\" | tail -n +\"$lnSt\""
    },
    {
      "cell_type": "markdown",
      "source": "## 1.2 Add BYOC folder to PYTHONPATH \nIt is important to add the folder containing your code to the PYTHONPATH variable.\nThe easiest way to do this is to add it to the `set_env.sh` file since it is called from all the train commands.\nLet\u0027s take a look at this `set_env.sh` file ",
      "metadata": {
        "pycharm": {
          "metadata": false
        }
      }
    },
    {
      "cell_type": "code",
      "execution_count": null,
      "outputs": [],
      "source": "printFile(MMAR_ROOT+\"/commands/set_env.sh\",0,20)",
      "metadata": {
        "pycharm": {
          "metadata": false,
          "name": "#%%\n"
        }
      }
    },
    {
      "cell_type": "markdown",
      "source": "## 2.1 BYO Transformation: Adding random value to image pixels\nNow lets write a full transformation `MyAddRandomConstant` from scratch. For this you need to:\n1. Implement `MultiFieldTransformer`\n2. Define `transform` and `is_deterministic` functions\n\nsee how we did this in by running the cell below",
      "metadata": {
        "pycharm": {
          "metadata": false
        }
      }
    },
    {
      "cell_type": "code",
      "execution_count": null,
      "outputs": [],
      "source": "printFile(MMAR_ROOT+\"/BYOC/myTransformation.py\",16,30)\n",
      "metadata": {
        "pycharm": {
          "metadata": false,
          "name": "#%%\n"
        }
      }
    },
    {
      "cell_type": "markdown",
      "metadata": {
        "pycharm": {
          "metadata": false
        }
      },
      "source": "Now to run this we need to modify the train config by setting the `path` \nto our newly created transformation `myTransformation.MyAddRandomConstant`. \nWe also would like to debug the output so we will add the `SaveAsNifti` Transform. \nThis transform would pause the training and save batches to `out_dir` for us to check. \nNote: we set `\"interrupt\": false` in the example however, \nwhen debugging you may want to change it to true so that you would get a pause to check the batches then continue to generate more "
    },
    {
      "cell_type": "code",
      "execution_count": null,
      "metadata": {
        "pycharm": {
          "metadata": false,
          "name": "#%%\n"
        }
      },
      "outputs": [],
      "source": "configFile\u003dMMAR_ROOT+\"/config/trn_BYOC_transform.json\"\nprintFile(configFile,89,10)\n"
    },
    {
      "cell_type": "markdown",
      "metadata": {
        "pycharm": {
          "metadata": false
        }
      },
      "source": "## 2.2 Run and see Debugging Data\nSo let us now run training and see the results "
    },
    {
      "cell_type": "code",
      "execution_count": null,
      "metadata": {
        "pycharm": {
          "metadata": false,
          "name": "#%%\n"
        }
      },
      "outputs": [],
      "source": "! $MMAR_ROOT/commands/train_W_Config.sh trn_BYOC_transform.json"
    },
    {
      "cell_type": "markdown",
      "metadata": {
        "pycharm": {
          "metadata": false
        }
      },
      "source": [
        "\n",
        "Now let us see the sample images in the debug folder  "
      ]
    },
    {
      "cell_type": "code",
      "execution_count": null,
      "metadata": {
        "pycharm": {
          "metadata": false,
          "name": "#%%\n"
        }
      },
      "outputs": [],
      "source": "! ls -la /claraDevDay/Data/_tmpDebugPatches/"
    },
    {
      "cell_type": "markdown",
      "metadata": {
        "pycharm": {
          "metadata": false
        }
      },
      "source": "\n## 3. BYO Network Architecture and Loss\nClara Train SDK also allows you to write your own network architecture as well as your loss function. \nIn this example we have a shallow Unet architecture defined in [myNetworkArch.py](BYOC/myNetworkArch.py) \nas well as our own dice loss defined in [myLoss.py](BYOC/myLoss.py). \n\nNormal | BYOC  \n --- | --- \n\"loss\": {\u003cbr\u003e \"name\": \"DiceLoss\",\u003cbr\u003e \"args\":{ ...      } \u003cbr\u003e}, | \"loss\": {\u003cbr\u003e **\"path\"**: \"myLoss.MyDiceLoss\",\u003cbr\u003e  \"args\": {... }\u003cbr\u003e} |\n\"model\": {\u003cbr\u003e \"name\": \"UNet\",\u003cbr\u003e\"args\": { ... }\u003cbr\u003e}, | \"model\": {\u003cbr\u003e**\"path\"**: \"myNetworkArch.MyBasicUNet\",\u003cbr\u003e\"args\": { ... }\u003cbr\u003e},\n \n\nLet us see how it is defined   "
    },
    {
      "cell_type": "code",
      "execution_count": null,
      "metadata": {
        "pycharm": {
          "metadata": false,
          "name": "#%%\n"
        }
      },
      "outputs": [],
      "source": [
        "printFile(MMAR_ROOT+\"/BYOC/myNetworkArch.py\",0,30)\n",
        "printFile(MMAR_ROOT+\"/BYOC/myLoss.py\",0,30)"
      ]
    },
    {
      "cell_type": "markdown",
      "metadata": {
        "pycharm": {
          "metadata": false
        }
      },
      "source": [
        "Let us Examine the config file [trn_BYOC_Arch_loss.json](config/trn_BYOC_Arch_loss.json) "
      ]
    },
    {
      "cell_type": "code",
      "execution_count": null,
      "metadata": {
        "pycharm": {
          "metadata": false,
          "name": "#%%\n"
        }
      },
      "outputs": [],
      "source": "configFile\u003dMMAR_ROOT+\"/config/trn_BYOC_Arch_loss.json\"\nprintFile(configFile,11,18)\nprintFile(configFile,32,43)\n"
    },
    {
      "cell_type": "markdown",
      "metadata": {
        "pycharm": {
          "metadata": false
        }
      },
      "source": [
        "Now let us train our network  "
      ]
    },
    {
      "cell_type": "code",
      "execution_count": null,
      "metadata": {
        "pycharm": {
          "metadata": false,
          "name": "#%%\n"
        }
      },
      "outputs": [],
      "source": [
        "\n",
        "! $MMAR_ROOT/commands/train_W_Config.sh trn_BYOC_Arch_loss.json\n"
      ]
    },
    {
      "cell_type": "markdown",
      "metadata": {
        "pycharm": {
          "metadata": false
        }
      },
      "source": "## 4. BYO Data Loader\nFor this example we will see how to use a custom loader specifically to load a numpy file. \nTo do this, we first load our nii.gz file and save it a np.  "
    },
    {
      "cell_type": "code",
      "execution_count": null,
      "metadata": {
        "pycharm": {
          "metadata": false,
          "name": "#%%\n"
        }
      },
      "outputs": [],
      "source": "import nibabel as nib\nimport numpy as np\ndataRoot\u003d\"/claraDevDay/Data/sampleData/\"\nfor imgLb in [\"imagesTr\",\"labelsTr\"]:\n    filename\u003d dataRoot+imgLb+\"/spleen_8.nii.gz\"\n    img \u003d nib.load(filename)\n    data \u003d img.get_fdata()\n    np.save(filename[:-7]+\".npy\",data)\n!ls -ls $dataRoot/imagesTr\n!ls -ls $dataRoot/labelsTr"
    },
    {
      "cell_type": "markdown",
      "metadata": {
        "pycharm": {
          "metadata": false
        }
      },
      "source": [
        "Now that we have a numpy files, we will change the [trn_BYOC_DataLoader.json](config/trn_BYOC_DataLoader.json) \n",
        "to point to MyNumpyLoader. Let us take a look at the configuration file changes"
      ]
    },
    {
      "cell_type": "code",
      "execution_count": null,
      "metadata": {
        "pycharm": {
          "metadata": false,
          "name": "#%%\n"
        }
      },
      "outputs": [],
      "source": [
        "configFile\u003dMMAR_ROOT+\"/config/trn_BYOC_DataLoader.json\"\n",
        "printFile(configFile,23,9)"
      ]
    },
    {
      "cell_type": "markdown",
      "metadata": {
        "pycharm": {
          "metadata": false
        }
      },
      "source": [
        "Now let us check the code written for loading from numpy in the [myNpLoader.py](BYOC/myNpLoader.py) file."
      ]
    },
    {
      "cell_type": "code",
      "execution_count": null,
      "metadata": {
        "pycharm": {
          "metadata": false,
          "name": "#%%\n"
        }
      },
      "outputs": [],
      "source": [
        "configFile\u003dMMAR_ROOT+\"/BYOC/myNpLoader.py\"\n",
        "printFile(configFile,0,27)"
      ]
    },
    {
      "cell_type": "markdown",
      "metadata": {
        "pycharm": {
          "metadata": false
        }
      },
      "source": [
        "\n",
        "\n",
        "Now let us run training by running the cell below"
      ]
    },
    {
      "cell_type": "code",
      "execution_count": null,
      "metadata": {
        "pycharm": {
          "metadata": false,
          "name": "#%%    \n"
        }
      },
      "outputs": [],
      "source": [
        "! $MMAR_ROOT/commands/train_W_Config.sh trn_BYOC_DataLoader.json \"/claraDevDay/sampleData/dataset_28GB_npy.json\"\n"
      ]
    },
    {
      "cell_type": "markdown",
      "metadata": {
        "pycharm": {
          "metadata": false
        }
      },
      "source": [
        "# Exercise\n",
        "\n",
        "1. Modify the custom loss file to be a weighted dice loss per label.\n",
        "Tips:\n",
        "    1. Code below is already in the [myLoss.py](BYOC/myLoss.py) after the is skip background if statement, you just need to uncomment it\n",
        "    ```\n",
        "    if label_weights is not None:\n",
        "        label_weights \u003d label_weights[1:]\n",
        "    ```\n",
        "    2. Similarly uncomment the lines below that are already in the same function to multiply the weights given with the loss  \n",
        "    ``` \n",
        "    if label_weights is not None:  add wights to labels\n",
        "        print(\"\u003d\u003d\u003d\u003d\u003d\u003d\u003d\u003d\u003d\u003d Debug research intersection.shape\u003d\", intersection.shape)\n",
        "        w \u003d tf.constant(label_weights, dtype\u003dtf.float32)\n",
        "        intersection \u003d tf.multiply(w, intersection)\n",
        "        print(\"\u003d\u003d\u003d\u003d\u003d\u003d\u003d\u003d\u003d\u003d Debug research intersection.shape\u003d\", intersection.shape)\n",
        "    \n",
        "    ```\n",
        "    3. You need to pass the weights into these functions\n",
        "2. You can use code in [myMetric.py](BYOC/myMetric.py) and customize it to bring your own metric\n"
      ]
    }
  ],
  "metadata": {
    "kernelspec": {
      "display_name": "Python 3",
      "language": "python",
      "name": "python3"
    },
    "language_info": {
      "codemirror_mode": {
        "name": "ipython",
        "version": 3
      },
      "file_extension": ".py",
      "mimetype": "text/x-python",
      "name": "python",
      "nbconvert_exporter": "python",
      "pygments_lexer": "ipython3",
      "version": "3.7.5"
    },
    "stem_cell": {
      "cell_type": "raw",
      "source": "\u003c!--- SPDX-License-Identifier: Apache-2.0 --\u003e\n",
      "metadata": {
        "pycharm": {
          "metadata": false
        }
      }
    }
  },
  "nbformat": 4,
  "nbformat_minor": 1
}