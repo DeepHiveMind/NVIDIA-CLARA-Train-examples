{
  "cells": [
    {
      "cell_type": "markdown",
      "metadata": {
        "collapsed": true,
        "pycharm": {
          "name": "#%% md\n"
        }
      },
      "source": "# AI Assisted Annotation with OHIF\n\nZero foot print Dicom viewers are ideal for radiology workflow. \n[Open Health Imaging Foundation (OHIF)](http://ohif.org/) Viewer is an open source, web-based, medical imaging viewer. \nIt can be configured to connect to Image Archives that support DicomWeb, \nand offers support for mapping to proprietary API formats. \nOHIF maintained extensions add support for viewing, annotating, \nand reporting on DICOM images in 2D (slices) and 3D (volumes). \nOHIF by it self is a web viewer that requires a PACS on the back end to hold the dicom images. \nYou can use either [Dcm4chee](https://github.com/dcm4che/dcm4chee-arc-light/wiki) or [Orthanc](https://www.orthanc-server.com/). \n\nFor this we expand on how to use OHIF with AIAA. \nThis note book will guide your through how to set up \n- OHIF web viewer with Nvidia AIAA integration \n- Orthanc\n- This current notebooks \n"
    },
    {
      "cell_type": "markdown",
      "source": "## Prerequisites\n- Nvidia GPU with 8Gb of memory\n- Going through [AIAA Notebook](AIAA.ipynb) to get basic understanding of AIAA.    \n- For trouble shot, basic understanding of docker and docker compose is recommended \n",
      "metadata": {
        "pycharm": {
          "metadata": false
        }
      }
    },
    {
      "cell_type": "markdown",
      "source": "## 1. Setup OHIF \nNvidia has integrated AIAA into OHIF as a plugin. \nWe have packaged all under OHIF-Orthanc sub-folder. \n1. Launch OHIF with Orthanc and this current noteboooks.\u003cbr\u003e\n**Note: You need to close this docker container before doing steps below** \u003cbr\u003e\nThese steps will launch multiple dockers as shown below\n\u003cbr\u003e\u003cimg src\u003d\"screenShots/ThreeDockers.png\" alt\u003d\"Drawing\" style\u003d\"height: 300px;\"/\u003e\u003cbr\u003e \n    1. Open terminal on your bare bone host\n    2. cd into `OHIF-Orthanc` sub-folders\n    3. (optional) edit docker-compose.yml to change/ map the data dir. \n    By default it will be inside the sub-folder\n    4. Run `./restart.sh`. This will launch this notebooks, OHIF, and orthanc\n    5. Basic authentication is provided. User/password is `clara/clara`. \n    To change this user/password please refer to exercise section below  \n2. Check things are running: \n    1. This Notebooks: \u003c/br\u003e\n    Go to your browser at [localhost:3030/notebooks/](http://localhost:3030/notebooks/) \n    and use the token printed out after running the `restart.sh` script\n    2. OHIF: \u003c/br\u003e \n    Go to your browser [localhost:3030](http://localhost:3030/) to see OHIF web page as below\n    \u003cbr\u003e\u003cimg src\u003d\"screenShots/OHIFList.png\" alt\u003d\"Drawing\" style\u003d\"height: 300px;\"/\u003e\u003cbr\u003e \n    3. Orthanc: \u003c/br\u003e \n    Go to your browser at [localhost:3030/pacs-admin/](http://localhost:3030/pacs-admin) to see Orthanc web UI (username/password is orthanc/orthanc) \n    \u003cbr\u003e\u003cimg src\u003d\"screenShots/Orthanc.png\" alt\u003d\"Drawing\" style\u003d\"height: 300px;\"/\u003e\u003cbr\u003e ",
      "metadata": {
        "pycharm": {
          "metadata": false
        }
      }
    },
    {
      "cell_type": "markdown",
      "source": "## 2. Download Dicom Studies\n\nOHIF and the back end PACS uses dicom format. \nFor this you need to have a some Dicom studies locally.\nYou can run [TCIA Notebook](../Data/TCIA/TCIADownloader.ipynb) \nwith any of the sample data links. \nYou should find the downloaded data under `/claraDevDay/Data/\u003cDataname\u003e/DCM/`  \n",
      "metadata": {
        "pycharm": {
          "metadata": false
        }
      }
    },
    {
      "cell_type": "markdown",
      "source": "## 3. Upload a dicom study into the PACS (orthanc)\nNow that you have dicom images, \nwe would want to upload it to our PACS. \nFor this we can use dcmtk library  ",
      "metadata": {
        "pycharm": {
          "metadata": false
        }
      }
    },
    {
      "cell_type": "code",
      "execution_count": null,
      "outputs": [],
      "source": "# install apt-get install dcmtk\n!apt-get -y install dcmtk",
      "metadata": {
        "pycharm": {
          "metadata": false,
          "name": "#%%\n"
        }
      }
    },
    {
      "cell_type": "markdown",
      "source": "As we are using docker compose internal network we can directly upload to orthanc using its intenal name \n`orthanc` and its internal port 4242 ",
      "metadata": {
        "pycharm": {
          "metadata": false
        }
      }
    },
    {
      "cell_type": "code",
      "execution_count": null,
      "outputs": [],
      "source": "!storescu -v +sd +r -xb -v -aet \"ORTHANC\" orthanc 4242 /claraDevDay/Data/NSCLC_5/DCM/1.3*",
      "metadata": {
        "pycharm": {
          "metadata": false,
          "name": "#%%\n"
        }
      }
    },
    {
      "cell_type": "markdown",
      "source": "## 4. Open OHIF and use AIAA\nNow that we have dicom data in our PACS, you can open OHIF in your browser and click on a patient to view it as below.\n\u003cbr\u003e\u003cimg src\u003d\"screenShots/OHIF.png\" alt\u003d\"Drawing\" style\u003d\"height: 300px;\"/\u003e\u003cbr\u003e \n\n\nNext you need to setup the AIAA plugin (see image below) :\n1. AIAA server url:\n    1. Set to `http://\u003cyourmachineIP\u003e:3030/aiaa/` \n    2. Click refresh icon next to it.\n    3. You should see the models you have loaded in AIAA server.\n2. Setup fetch from pacs:\n    1. Under more AIAA setup\n    2. Check Fetch Images From Dicom Server \n    3. Dicom server \u003d `orthanc:4242`. This is the internal port exposed through docker network\n    4. Set AETitle \u003d `ORTHANC`\n\u003cbr\u003e\u003cimg src\u003d\"screenShots/OHIF-AIAAwRevProxy.png\" alt\u003d\"Drawing\" style\u003d\"height: 300px;\"/\u003e\u003cbr\u003e \n",
      "metadata": {
        "pycharm": {
          "metadata": false
        }
      }
    },
    {
      "cell_type": "markdown",
      "source": "## 5. Stop All\nTo stop all dockers (Notebooks, OHIF and PACS) you should run `./stop.sh`. \n***Note: Running cell below would terminate this notebook***\n",
      "metadata": {
        "pycharm": {
          "metadata": false
        }
      }
    },
    {
      "cell_type": "code",
      "source": "#Note: Running cell below would terminate this notebook\n#!./stop.sh`\n",
      "metadata": {
        "pycharm": {
          "metadata": false,
          "name": "#%%\n"
        }
      },
      "execution_count": null,
      "outputs": []
    },
    {
      "cell_type": "markdown",
      "source": "# Exercise ",
      "metadata": {
        "pycharm": {
          "metadata": false
        }
      }
    },
    {
      "cell_type": "markdown",
      "source": "### 1. Remove user/password\nIn order to have no security at all, you can change the [docker-compose](OHIF-Orthanc/docker-compose.yml) \nto use [nginxNoPassword](OHIF-Orthanc/config/nginxNoPassword.conf) instead of [nginxWPassword](OHIF-Orthanc/config/nginxWPassword.conf) ",
      "metadata": {
        "pycharm": {
          "metadata": false
        }
      }
    },
    {
      "cell_type": "markdown",
      "source": "### 2. Change user/password file\nWe provide basic authentication file [`.htpasswd`](OHIF-Orthanc/config/.htpasswd) \nwith user/password \u003d clara/clara.\nIn order to change this or create a new file altogether, you can run ",
      "metadata": {
        "pycharm": {
          "metadata": false
        }
      }
    },
    {
      "cell_type": "code",
      "source": "htpasswd -c /claraDevDay/AIAA/OHIF-Orthanc/config/.MyNewhtpasswd username1\n# you would be prompt for password then again to confirm it ",
      "metadata": {
        "pycharm": {
          "metadata": false,
          "name": "#%%\n"
        }
      },
      "execution_count": null,
      "outputs": []
    },
    {
      "cell_type": "markdown",
      "source": "To a add another user we can use the same command without `-c` flag as ",
      "metadata": {
        "pycharm": {
          "metadata": false
        }
      }
    },
    {
      "cell_type": "code",
      "execution_count": null,
      "outputs": [],
      "source": "htpasswd /claraDevDay/AIAA/OHIF-Orthanc/config/.MyNewhtpasswd anotherusername2 ",
      "metadata": {
        "pycharm": {
          "metadata": false,
          "name": "#%%\n"
        }
      }
    },
    {
      "cell_type": "markdown",
      "source": "\n### 3. Use https instead of http\nSetup above is using http for simplicity that would work on internal secure network. \nIn order to use this setup on public you should use https to secure communication between client and server. \nFor this we would need to:\n1. Have a ssl certification and key. For this you can:\n    1. Use the sample self certified crt and key files provided  \n    2. Use your own ssl files\n    3. Generate your own self signed by running \n    ```\n    openssl req -x509 -nodes -days 365 -newkey rsa:2048 -keyout /claraDevDay/AIAA/OHIF-Orthanc/config/nginx-selfsigned.key -out /claraDevDay/AIAA/OHIF-Orthanc/config/nginx-selfsigned.crt\n    ```\n    For more options you can follow instructions [here](https://www.digitalocean.com/community/tutorials/how-to-create-a-self-signed-ssl-certificate-for-nginx-in-ubuntu-16-04)\n2. Change the [docker-compose.yml](OHIF-Orthanc/docker-compose.yml) to:\n    1. Map port 443 instead of port 80 \n    2. Map the crt and key files.\n    3. Use [`nginxHttpsWPassword.conf`](OHIF-Orthanc/config/nginxHttpsWPassword.conf)",
      "metadata": {
        "pycharm": {
          "metadata": false
        }
      }
    },
    {
      "cell_type": "markdown",
      "source": "If you use self signed certification would would get warnings on your first access as shown below. \nYou would need to click `Advanced` then click `Proceed to _____ (unsafe)` link as shown below\n\n\u003cbr\u003e\u003cimg src\u003d\"screenShots/httpsWarning.png\" alt\u003d\"Drawing\" style\u003d\"height: 300px;\"/\u003e\u003cbr\u003e \n",
      "metadata": {
        "pycharm": {
          "metadata": false
        }
      }
    }
  ],
  "metadata": {
    "language_info": {
      "codemirror_mode": {
        "name": "ipython",
        "version": 2
      },
      "file_extension": ".py",
      "mimetype": "text/x-python",
      "name": "python",
      "nbconvert_exporter": "python",
      "pygments_lexer": "ipython2",
      "version": "2.7.6"
    },
    "kernelspec": {
      "name": "pycharm-e5c8d846",
      "language": "python",
      "display_name": "PyCharm (claraTrain2.0)"
    },
    "stem_cell": {
      "cell_type": "raw",
      "source": "\u003c!--- SPDX-License-Identifier: Apache-2.0 --\u003e\n",
      "metadata": {
        "pycharm": {
          "metadata": false
        }
      }
    }
  },
  "nbformat": 4,
  "nbformat_minor": 0
}