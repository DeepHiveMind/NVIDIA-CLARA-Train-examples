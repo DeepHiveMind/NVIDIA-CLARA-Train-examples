{
  "cells": [
    {
      "cell_type": "markdown",
      "metadata": {
        "collapsed": true,
        "pycharm": {
          "name": "#%% md\n"
        }
      },
      "source": "# AI Assisted Annotation with OHIF\n\nZero foot print Dicom viewers are ideal for radiology workflow. \n[Open Health Imaging Foundation (OHIF)](http://ohif.org/) Viewer is an open source, web-based, medical imaging viewer. \nIt can be configured to connect to Image Archives that support DicomWeb, \nand offers support for mapping to proprietary API formats. \nOHIF maintained extensions add support for viewing, annotating, \nand reporting on DICOM images in 2D (slices) and 3D (volumes). \nOHIF by it self is a web viewer that requires a PACS on the back end to hold the dicom images. \nYou can use either [Dcm4chee](https://github.com/dcm4che/dcm4chee-arc-light/wiki) or [Orthanc](https://www.orthanc-server.com/). \n\nFor this we expand on how to use OHIF with AIAA. \nThis note book will guide your through how to set up \n- OHIF web viewer with Nvidia AIAA integration \n- Orthanc\n- This notebooks \n"
    },
    {
      "cell_type": "markdown",
      "source": "## Prerequisites\n- Nvidia GPU with 8Gb of memory\n- Going through [AIAA Notebook](AIAA.ipynb) to get basic understanding of AIAA.    \n- For trouble shot, basic understanding of docker and docker compose is recommended \n",
      "metadata": {
        "pycharm": {
          "metadata": false
        }
      }
    },
    {
      "cell_type": "markdown",
      "source": "## 1. Setup OHIF \nNvidia has integrated AIAA into OHIF as a plugin. \nWe have packaged all under OHIF-Orthanc sub-folder. \n1. Launch OHIF with Orthanc or DCM4Chee\n    1. Open terminal on your bare bone host\n    2. cd into `OHIF-Orthanc` sub-folders\n    3. (optional) edit docker-compose.yml to change/ map the data dir. \n    By default it will be inside the sub-folder\n    4. Run `./restart.sh`. This will launch this notebooks, OHIF, and orthanc\n    5. Basic authentication is provided. User/password is `clara/clara`  \n2. Check things are running: \n    1. OHIF: \u003c/br\u003e \n    Go to your browser [localhost:3030]() to see OHIF web page as below\n    \u003cbr\u003e\u003cimg src\u003d\"screenShots/OHIFList.png\" alt\u003d\"Drawing\" style\u003d\"height: 300px;\"/\u003e\u003cbr\u003e \n    2. Orthanc: \u003c/br\u003e \n    Go to your browser at [localhost:3030/pacs-admin/]() to see Orthanc web UI (username/password is orthanc/orthanc) \n    \u003cbr\u003e\u003cimg src\u003d\"screenShots/Orthanc.png\" alt\u003d\"Drawing\" style\u003d\"height: 300px;\"/\u003e\u003cbr\u003e \n    3. This Notebooks: \u003c/br\u003e\n    Go to your browser at [localhost:3030/notebooks/]() \n    and use the token printed out after running the `restart.sh` script",
      "metadata": {
        "pycharm": {
          "metadata": false
        }
      }
    },
    {
      "cell_type": "markdown",
      "source": "## 2. Download Dicom Studies\n\nOHIF and the back end PACS uses dicom format. \nFor this you need to have a some Dicom studies locally.\nYou can run [TCIA Notebook](../Data/tcia-master/TCIADownloader.ipynb) \nwith any of the sample data links. \nYou should find the downloaded data under `/claraDevDay/Data/\u003cDataname\u003e/DCM/`  \n",
      "metadata": {
        "pycharm": {
          "metadata": false
        }
      }
    },
    {
      "cell_type": "markdown",
      "source": "### 2.1 (optional) Convert Nifti to Dicom \n",
      "metadata": {
        "pycharm": {
          "metadata": false
        }
      }
    },
    {
      "cell_type": "code",
      "execution_count": null,
      "outputs": [],
      "source": "Data_ROOT\u003d\"/claraDevDay/Data/\"\nAIAA_ROOT\u003d\"/claraDevDay/AIAA/\"",
      "metadata": {
        "pycharm": {
          "metadata": false,
          "name": "#%% \n"
        }
      }
    },
    {
      "cell_type": "markdown",
      "source": "Install xmedcon ",
      "metadata": {
        "pycharm": {
          "metadata": false,
          "name": "#%% md\n"
        }
      }
    },
    {
      "cell_type": "code",
      "execution_count": null,
      "outputs": [],
      "source": "!apt-get install -y xmedcon\n",
      "metadata": {
        "pycharm": {
          "metadata": false,
          "name": "#%% \n"
        }
      }
    },
    {
      "cell_type": "markdown",
      "source": "You can see all features of the medcon by running `medcon -h`. \nCell below will convert the sample spleen dataset in to dicom. \nThen add some date/time and fake dicom metadata in order to make it a valide Dicom ",
      "metadata": {
        "pycharm": {
          "metadata": false,
          "name": "#%% md\n"
        }
      }
    },
    {
      "cell_type": "code",
      "execution_count": null,
      "outputs": [],
      "source": "!medcon -c dicom -f $Data_ROOT/sampleData/imagesTr/spleen_8.nii.gz -o $AIAA_ROOT/dicomSample/spleen_8.dcm\n!$AIAA_ROOT/OHIF/dcm4Chee/upload_dicom.sh $AIAA_ROOT/dicomSample/ clarasa-station\n!python fixDicom.py\n",
      "metadata": {
        "pycharm": {
          "metadata": false,
          "name": "#%%\n"
        }
      }
    },
    {
      "cell_type": "markdown",
      "source": "## 3. Upload a dicom study into the PACS (orthanc)\nNow that you have dicom images, \nwe would want to upload it to our PACS. \nFor this we can use dcmtk library  ",
      "metadata": {
        "pycharm": {
          "metadata": false
        }
      }
    },
    {
      "cell_type": "code",
      "execution_count": null,
      "outputs": [],
      "source": "# install apt-get install dcmtk\n!apt-get -y install dcmtk",
      "metadata": {
        "pycharm": {
          "metadata": false,
          "name": "#%%\n"
        }
      }
    },
    {
      "cell_type": "markdown",
      "source": "As we are using docker compose internal network we can directly upload to orthanc using its intenal name \n`orthanc` and its internal port 4242 ",
      "metadata": {
        "pycharm": {
          "metadata": false
        }
      }
    },
    {
      "cell_type": "code",
      "execution_count": null,
      "outputs": [],
      "source": "!storescu -v +sd +r -xb -v -aet \"ORTHANC\" orthanc 4242 /claraDevDay/Data/NSCLC_5/DCM/",
      "metadata": {
        "pycharm": {
          "metadata": false,
          "name": "#%%\n"
        }
      }
    },
    {
      "cell_type": "markdown",
      "source": "## 4. Open OHIF and use AIAA\nNow that we have dicom data in our PACS, you can open OHIF in your browser and click on a patient to view it as below.\n\u003cbr\u003e\u003cimg src\u003d\"screenShots/OHIF.png\" alt\u003d\"Drawing\" style\u003d\"height: 300px;\"/\u003e\u003cbr\u003e \n\n\nNext you need to setup the AIAA server url as `http://\u003cyourmachineIP\u003e:5000` click refresh to see the models you have loaded. \nYou should see the spleen segmentation and the deep grow models loaded.\n",
      "metadata": {
        "pycharm": {
          "metadata": false
        }
      }
    },
    {
      "cell_type": "markdown",
      "source": "## 5. Stop All\nTo stop all dockers (Notebooks, OHIF and PACS) you should run `./stop.sh`. \n***Note: Running cell below would terminate this notebook***\n",
      "metadata": {
        "pycharm": {
          "metadata": false
        }
      }
    },
    {
      "cell_type": "code",
      "source": "#Note: Running cell below would terminate this notebook\n#!./stop.sh`\n",
      "metadata": {
        "pycharm": {
          "metadata": false,
          "name": "#%%\n"
        }
      },
      "execution_count": null,
      "outputs": []
    }
  ],
  "metadata": {
    "language_info": {
      "codemirror_mode": {
        "name": "ipython",
        "version": 2
      },
      "file_extension": ".py",
      "mimetype": "text/x-python",
      "name": "python",
      "nbconvert_exporter": "python",
      "pygments_lexer": "ipython2",
      "version": "2.7.6"
    },
    "kernelspec": {
      "name": "pycharm-e5c8d846",
      "language": "python",
      "display_name": "PyCharm (claraTrain2.0)"
    },
    "stem_cell": {
      "cell_type": "raw",
      "source": "\u003c!--- SPDX-License-Identifier: Apache-2.0 --\u003e\n",
      "metadata": {
        "pycharm": {
          "metadata": false
        }
      }
    }
  },
  "nbformat": 4,
  "nbformat_minor": 0
}