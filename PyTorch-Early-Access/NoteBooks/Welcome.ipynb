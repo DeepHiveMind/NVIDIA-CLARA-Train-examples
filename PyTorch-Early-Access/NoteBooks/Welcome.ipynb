{
  "cells": [
    {
      "cell_type": "markdown",
      "source": "# Clara Train SDK V4",
      "metadata": {
        "pycharm": {
          "metadata": false
        }
      }
    },
    {
      "cell_type": "markdown",
      "source": "Welcome to Clara Train SDK. \nThis SDK comes with many features to maximize productivity and minimizes training time.\n\u003cbr\u003e \n\u003cbr\u003e\u003cimg src\u003d\"screenShots/ClaraAI.png\" alt\u003d\"Drawing\" style\u003d\"height: 400px;\"/\u003e\u003cbr\u003e",
      "metadata": {
        "pycharm": {
          "metadata": false
        }
      }
    },
    {
      "cell_type": "markdown",
      "source": "This SDK aims to have data scientist focus on the medical problem\nwhile having NVIDIA\u0027s software engineers focus on training optimization, \nincluding full gpu utilization and multi-GPU training\u003cbr\u003e\n\u003cbr\u003e\n\u003cbr\u003e\u003cimg src\u003d\"screenShots/whyUseSDK.png\" alt\u003d\"Drawing\" style\u003d\"height: 450px;\"/\u003e\u003cbr\u003e\n\n",
      "metadata": {
        "pycharm": {
          "metadata": false
        }
      }
    },
    {
      "cell_type": "markdown",
      "source": "## Resources\nYou could watch the free GTC 2021 talks covering Clara Train SDK\n- [Clara Train 4.0 - 101 Getting Started [SE2688]](https://gtc21.event.nvidia.com/media/Clara%20Train%204.0%20-%20101%20Getting%20Started%20%5BSE2688%5D/1_0qgfrql2)\n- [Clara Train 4.0 - 201 Federated Learning [SE3208]](https://gtc21.event.nvidia.com/media/Clara%20Train%204.0%20-%20201%20Federated%20Learning%20%5BSE3208%5D/1_m48t6b3y)\n- [What’s New in Clara Train 4.0 [D3114]](https://gtc21.event.nvidia.com/media/What%E2%80%99s%20New%20in%20Clara%20Train%204.0%20%5BD3114%5D/1_umvjidt2)\n- [Take Medical AI from Concept to Production using Clara Imaging [S32482]](https://gtc21.event.nvidia.com/media/Take%20Medical%20AI%20from%20Concept%20to%20Production%20using%20Clara%20Imaging%20%20%5BS32482%5D/1_6bvnvyg7)\n- [Federated Learning for Medical AI [S32530]](https://gtc21.event.nvidia.com/media/Federated%20Learning%20for%20Medical%20AI%20%5BS32530%5D/1_z26u15uk)\n- [Get Started Now on Medical Imaging AI with Clara Train on Google Cloud Platform [S32518]](https://gtc21.event.nvidia.com/media/Get%20Started%20Now%20on%20Medical%20Imaging%20AI%20with%20Clara%20Train%20on%20Google%20Cloud%20Platform%20%5BS32518%5D/1_2yjdekmi)\n- [Automate 3D Medical Imaging Segmentation with AutoML and Neural Architecture Search [S32083]](https://gtc21.event.nvidia.com/media/Automate%203D%20Medical%20Imaging%20Segmentation%20with%20AutoML%20and%20Neural%20Architecture%20Search%20%5BS32083%5D/1_r5swh2jn)\n- [A Platform for Rapid Development and Clinical Translation of ML Models for Applications in Radiology at UCSF [S31619]](https://gtc21.event.nvidia.com/media/A%20Platform%20for%20Rapid%20Development%20and%20Clinical%20Translation%20of%20ML%20Models%20for%20Applications%20in%20Radiology%20at%20UCSF%20%5BS31619%5D/1_oz8qop5a)\nYou could watch the free GTC 2020 talks covering Clara Train SDK V3 (TensorFlow based)\n- [Clara train Getting started: cover basics, BYOC, AIAA, AutoML [S22563]](https://developer.nvidia.com/gtc/2020/video/S22563) \n- [Clara train Performance: Different aspects of acceleration in train V3 [S22717]](https://developer.nvidia.com/gtc/2020/video/S22717)\n- [Clara Developer Day: Federated Learning using Clara Train SDK [S22564]](https://developer.nvidia.com/gtc/2020/video/S22564)\n",
      "metadata": {
        "pycharm": {
          "metadata": false
        }
      }
    },
    {
      "cell_type": "markdown",
      "source": "# List of Notebooks \n        \nThis package consists of multiple notebooks that explains the main concepts and features of Clara Train. \nTheses notebooks are:\u003cbr\u003e ",
      "metadata": {
        "pycharm": {
          "metadata": false
        }
      }
    },
    {
      "cell_type": "markdown",
      "source": "1. Getting Started\n    1. [Getting Started](GettingStarted/GettingStarted.ipynb) The purpose of this notebook is to get you familiar with clara train sdk. \nIt explains the main concepts as: \nMedical Model ARchive (MMAR); \nUnderstand train config; \nHow to train from scratch; \nTrain with multiple GPUs; \nExport a model; \nPerform inference and validation; \nUse DLpofile for profiling   \n    2. [Bring your own components](GettingStarted/BYOC.ipynb)\u003cbr\u003e \u003cspan style\u003d\"color:red\"\u003e(New in V4 using MONAI)\u003c/span\u003e\nThis notebook covers bringing: \nYour network architecture \n, Your data loader \n, Your transform \n, Your loss \n, Your Metrics",
      "metadata": {
        "pycharm": {
          "metadata": false
        }
      }
    },
    {
      "cell_type": "markdown",
      "source": "2. AI Assisted Annotation (AIAA):\n    1. [AIAA Basics](AIAA/AIAA.ipynb)\n    Starting the server, downloading models from NGC and using the client to do annotations. \n    \u003cspan style\u003d\"color:red\"\u003e 3D deep grow pre-trained model (New in V4)\u003c/span\u003e\n    2. [Train Deepgrow (2D and 3D)](AIAA/DeepGrow.ipynb) \u003cspan style\u003d\"color:red\"\u003e(New in V4)\u003c/span\u003e\n    3. [OHIF integration](AIAA/AIAAwOHIF.ipynb) \u003cspan style\u003d\"color:red\"\u003e(New in V4)\u003c/span\u003e",
      "metadata": {
        "pycharm": {
          "metadata": false
        }
      }
    },
    {
      "cell_type": "markdown",
      "source": "3. DataSets \n    1. [Download Decathlon Dataset](Data/DownloadDecathlonDataSet.ipynb) \u003cspan style\u003d\"color:red\"\u003e(New in V4)\u003c/span\u003e\n    2. [Download data from National Cancer Archive](Data/TCIA/TCIADownloader.ipynb) \u003cspan style\u003d\"color:red\"\u003e(New)\u003c/span\u003e\n",
      "metadata": {
        "pycharm": {
          "metadata": false
        }
      }
    },
    {
      "cell_type": "markdown",
      "source": "4. Federated Learning \u003cbr\u003e\nIn order to understand the concept of federated learning, \nwe provide a couple of notebooks that all run from within the same docker.  \n    1. [Federated learning](FL/FederatedLearning.ipynb) \n    2. [Provisioning Notebook](FL/Provisioning.ipynb) \n    3. [Client Notebook](FL/Client.ipynb) \n    4. [Administration of FL experiment](FL/Admin.ipynb) \n    5. [Bring your own Component to FL](FL/Admin_BYOC.ipynb) Showing different privacy settings, BYO privacy and Aggregation.\n    6. Homomorphic Encryption \u003cspan style\u003d\"color:red\"\u003e(New in V4)\u003c/span\u003e\n    6. Bring your own trainer. Separating Federation from Learning \u003cspan style\u003d\"color:red\"\u003e(New in V4)\u003c/span\u003e\n",
      "metadata": {
        "pycharm": {
          "metadata": false,
          "name": "#%% md\n"
        }
      }
    },
    {
      "cell_type": "markdown",
      "source": "5. AutoML\n    1. [AutoML](./AutoML/AutoML.ipynb)\nThis notebook goes over all AutoML concepts and provide examples on how to setup different search spaces using Enums and RL\n    2. [Bring your own AutoML component](./AutoML/AutoML_BYOC.ipynb).\n",
      "metadata": {
        "pycharm": {
          "metadata": false
        }
      }
    },
    {
      "cell_type": "markdown",
      "source": "6. Domain specific Examples:\n    1. [Digital Pathology](DomainExamples/DigitalPathology/DP.ipynb) \u003cspan style\u003d\"color:red\"\u003e(New in V4)\u003c/span\u003e\n     ",
      "metadata": {
        "pycharm": {
          "metadata": false
        }
      }
    },
    {
      "cell_type": "markdown",
      "source": "7. Integration (coming soon):\n    1. Setup on AWS\n    2. End to End workflow\n    3. Clara Train to Clara Deploy workflow\n    4. Integration with XNAT\n",
      "metadata": {
        "pycharm": {
          "metadata": false
        }
      }
    },
    {
      "cell_type": "markdown",
      "source": "Table below shows different features in clara train for different releases\n\nRelease | Module | Feature \n :--- | :---: | --- \nR4 April 2021 | Train | Moved to PyTorch using [Monai](https://monai.io/)\n   | AIAA | Deep Grow 3D pre-trained model for inference \n   | AIAA | Enable user to train 2D deep grow models \n   | AIAA | Enable user to train 3D deep grow models \n   | FL | Bring your own trainer   \n   | FL | Support for Homomorphic_Encryption    \n   | Domain Examples| Accelerated training digital pathology  \nR3.1 Nov 2020 | Train | AMP show 40% memory reduction with BN\n   | AIAA | Ability to run AIAA using docker in user mode/ singularity\n   | AutoML| New admin console \n   | AutoML| Expose more APIs to integrate with 3rd parties as MLflow  \n   | Federated learning | New provisioning paradigm   \n   | Federated learning | Running FL experiments from Admin shell    \n   | Federated learning | Bring your own aggregation and privacy  \nR3 April 2020 | Train | New optimizer (NovoGrad)\n   | Train | New pipeline (Keras)\n   | Train | New Batch with Caching\n   | AIAA | Deep Grow 2d model inference  \n   | AutoML| New Feature \nR2 Dec 2019 | Train | Auto mix precision support (AMP)\n   | Train | Deterministic support\n   | Train | New loss functions (Focal, Cross entropy) \n   | Train | New Models (Unet, Unet parallel, Alexnet)\n   | Train | Smart Caching \n   | AIAA | PyTorch support\n   | AIAA | 3D slicer as a client \n   | Federated learning | New feature \nR1 May 2019 | Train | Reproducible science with MMAR structure\n   | Train | Single GPU Training     \n   | Train | Multiple GPU acceleration with MPI and Horovod  \n   | Train | Out of box: Models, losses, metric, optimizer, 2d and 3D elastic transformation\n   | Train | Bring your own components: Models, losses, transforms, metric  \n   | AIAA | Segmentation and Annotation models\n   | AIAA | MITK as a client   \n\n",
      "metadata": {
        "pycharm": {
          "metadata": false
        }
      }
    }
  ],
  "metadata": {
    "language_info": {
      "codemirror_mode": {
        "name": "ipython",
        "version": 2
      },
      "file_extension": ".py",
      "mimetype": "text/x-python",
      "name": "python",
      "nbconvert_exporter": "python",
      "pygments_lexer": "ipython2",
      "version": "2.7.6"
    },
    "kernelspec": {
      "name": "pycharm-e5c8d846",
      "language": "python",
      "display_name": "PyCharm (claraTrain2.0)"
    },
    "stem_cell": {
      "cell_type": "raw",
      "source": "\u003c!--- SPDX-License-Identifier: Apache-2.0 --\u003e\n",
      "metadata": {
        "pycharm": {
          "metadata": false
        }
      }
    }
  },
  "nbformat": 4,
  "nbformat_minor": 0
}