{
  "cells": [
    {
      "cell_type": "markdown",
      "source": "# Running FL Admin to orchestrate an FL Experiment \n\nThis notebook will walk you through the work flow of FL admin who would conduct FL experiments. \nNote this is the only persona that has control over the FL experiments. \nThat is once server and clients have started, lead researcher can run Fl experiments using the CLI through the admin client.\nThe following types of commands are available:\n- Check system operating status\n- View system logs\n- Deploy MMARs (training configuration) to server and clients\n- Start, stop training\n- Clean up training results data (not the training datasets).\n- Shutdown, restart server or clients \n\nThis note book will walk you though how to perform commands above to complete an FL experiment. \n",
      "metadata": {
        "pycharm": {
          "metadata": false
        }
      }
    },
    {
      "cell_type": "markdown",
      "source": "## Prerequisites\n- Ran [Provisioning Notebook](Provisioning.ipynb) and started the server.\n- (Optional) Looked at [Client Notebook](Client.ipynb). \n",
      "metadata": {
        "pycharm": {
          "metadata": false
        }
      }
    },
    {
      "cell_type": "markdown",
      "source": "## Dataset \n\n##### Option 1 \nThis notebook uses a sample dataset (ie. a single image volume of the spleen dataset) provided in the package to train a small neural network for a few epochs. \nThis single file is duplicated 32 times for the training set and 9 times for the validation set to mimic the full spleen dataset. \n",
      "metadata": {
        "pycharm": {
          "metadata": false
        }
      }
    },
    {
      "cell_type": "markdown",
      "source": "##### Option 2  \nYou could do minor changes as recommended in the excersise section to train on the spleen segmentation task. The dataset used is Task09_Spleen.tar from \nthe [Medical Segmentation Decathlon](http://medicaldecathlon.com/). \nPrior to running this notebook the data should be downloaded following \nthe steps in [Data Download Notebook](../../Data_Download.ipynb).",
      "metadata": {
        "pycharm": {
          "metadata": false
        }
      }
    },
    {
      "cell_type": "markdown",
      "source": "\n### Disclaimer  \nWe will be training a small networks so that both clients can fit the model on 1 gpu. \nTraining will run for a couple of epochs, in order to show the concepts, we are not targeting accuracy.    \n",
      "metadata": {
        "pycharm": {
          "metadata": false
        }
      }
    },
    {
      "cell_type": "markdown",
      "source": "# Lets get started\nIn order to learn how FL works in clara train SDK and have hand on experience for all participant (server, clients, admin), \nwe will start by running all participants from the same docker using different terminals as in image below. \n\u003cbr\u003e\u003cimg src\u003d\"screenShots/Workshop_1Docker.png\" alt\u003d\"Drawing\" style\u003d\"height: 300px;\"/\u003e\u003cbr\u003e \n\n",
      "metadata": {
        "pycharm": {
          "metadata": false
        }
      }
    },
    {
      "cell_type": "markdown",
      "source": "### Recommended JupyterLab setup \nWe recommend you open a multiple terminals as image below. \nThis will allow you to see what is the output for the client and server. \nAs below we have a server terminal and 2 clients on the top right and the admin shell on the bottom right. \nThe Admin tool runs in an interactive shell therefore unfortunately we can\u0027t have cells to run the notebook. \nTherefore, you should leave this notebook on the left in order to follow instructions  \n\u003cbr\u003e\u003cimg src\u003d\"screenShots/JLabLayout.png\" alt\u003d\"Drawing\" style\u003d\"height: 300px;\"/\u003e\u003cbr\u003e\n\nIn order to open terminals you will need to:\n- Click on the folder tab\n- Click + sign\n- Select terminal as shown below\n\u003cbr\u003e\u003cimg src\u003d\"screenShots/openTerminals.png\" alt\u003d\"Drawing\" style\u003d\"height: 300px;\"/\u003e\u003cbr\u003e\n ",
      "metadata": {
        "pycharm": {
          "metadata": false
        }
      }
    },
    {
      "cell_type": "markdown",
      "source": "### Start server, clients and admin\n1. In the server terminal run:\n```\ncd /claraDevDay/FL/project1/server/startup\n./start.sh\n```  \n2. In the client1 terminal run:\n```\ncd /claraDevDay/FL/project1/client1/startup\n./start.sh\n```  \n3. In the client2 terminal run:\n```\ncd /claraDevDay/FL/project1/client2/startup\n./start.sh\n```  \n4. In the Admin terminal run:\n```\ncd /claraDevDay/FL/project1/admin/startup\n./fl_admin.sh\n```\nyou should see\n```\nAdmin Server: localhost on port 5000\nUser Name: `\n```\ntype `admin@admin.com` ",
      "metadata": {
        "pycharm": {
          "metadata": false
        }
      }
    },
    {
      "cell_type": "markdown",
      "source": "### Reality check \nIn real life each of those terminal would be on a separate machine   \n\u003cbr\u003e\u003cimg src\u003d\"screenShots/AdminClinetSetup.png\" alt\u003d\"Drawing\" style\u003d\"height: 400px;width: 600px\"/\u003e\u003cbr\u003e\n**Note: from this point forward the only user that needs to interact with the system is the lead researcher running the admin client**\n",
      "metadata": {
        "pycharm": {
          "metadata": false,
          "name": "#%% md\n"
        }
      }
    },
    {
      "cell_type": "markdown",
      "source": "# Admin Workflow\nBy now the server and 2 clients are running waiting for Lead Researcher to start the experiments. \n\u003cbr\u003e\u003cimg src\u003d\"screenShots/AdminSteps.png\" alt\u003d\"Drawing\" style\u003d\"height: 300px;\"/\u003e\u003cbr\u003e\n\nFigure above shows the steps she needs to preform:\n1. Starting the admin tool and logging in\n1. Check server and client status\n1. Upload MMAR to client and server\n1. Start training \n1. Get Metric \n ",
      "metadata": {
        "pycharm": {
          "metadata": false
        }
      }
    },
    {
      "cell_type": "markdown",
      "source": "Lets start by installing tree to look at directory structures ",
      "metadata": {
        "pycharm": {
          "metadata": false
        }
      }
    },
    {
      "cell_type": "code",
      "execution_count": null,
      "outputs": [],
      "source": "MMAR_DIR\u003d\"/claraDevDay/FL/project1/\"\n!ln -s /claraDevDay/Data/sampleData /data_4FL\n!apt-get install tree",
      "metadata": {
        "pycharm": {
          "metadata": false,
          "name": "#%%\n"
        }
      }
    },
    {
      "cell_type": "markdown",
      "source": "## 1- Starting Admin Shell\nIn the admin terminal, if you haven\u0027t already started the admin console you should to admin folder in side your project and run\n```\ncd /claraDevDay/FL/project1/admin/startup\n./fl_admin.sh\n``` \nyou should see\n```\nAdmin Server: localhost on port 5000\nUser Name: `\n```\ntype `admin@admin.com` \n\nAdmin Server: localhost on port 8003\nUser Name: admin@admin.com\n\nType ? to list commands; type \"? cmdName\" to show usage of a command.\n\nyou should see \n```\n\u003e ?\nClient Commands\n-------------------------------------------------------------------------------------------\n| SCOPE         | COMMAND         | DESCRIPTION                                           |\n-------------------------------------------------------------------------------------------\n|               | bye             | exit from the client                                  |\n|               | help            | get command help information                          |\n|               | lpwd            | print local work dir of the admin client              |\n| file_transfer | download_binary | download one or more binary files in the download_dir |\n| file_transfer | download_folder | download a folder from the server                     |\n| file_transfer | download_text   | download one or more text files in the download_dir   |\n| file_transfer | info            | show folder setup info                                |\n| file_transfer | upload_folder   | upload a folder to the server                         |\n-------------------------------------------------------------------------------------------\n\nServer Commands\nServer Commands\n--------------------------------------------------------------------------------\n| SCOPE      | COMMAND           | DESCRIPTION                                 |\n--------------------------------------------------------------------------------\n| authz      | eval_right        | check if a user has a right on a site       |\n| authz      | eval_rule         | evaluate a site against a rule              |\n| authz      | show_config       | show authorization config                   |\n| authz      | show_info         | show general info of authorization policy   |\n| authz      | show_rights       | show rights configured for authorization    |\n| authz      | show_rules        | show rules configured for authorization     |\n| authz      | show_sites        | show sites configured for authorization     |\n| authz      | show_users        | show users configured for authorization     |\n| sys        | sys_info          | get the system info                         |\n| training   | abort             | abort the FL server/client training         |\n| training   | check_status      | check_status the FL server/client           |\n| training   | delete_run_number | delete the FL training run number           |\n| training   | deploy            | deploy MMAR to client/server                |\n| training   | remove_client     | remove_client the FL client                 |\n| training   | restart           | restart the FL server/client                |\n| training   | set_run_number    | set the FL training run number              |\n| training   | set_timeout       | set the admin commands timeout              |\n| training   | shutdown          | shutdown the FL server/client               |\n| training   | start             | start the FL server/client training         |\n| training   | start_mgpu        | start the FL client training with multi-gpu |\n| utils      | cat               | show content of a file                      |\n| utils      | env               | show system environment vars                |\n| utils      | grep              | search for PATTERN in a file.               |\n| utils      | head              | print the first 10 lines of a file          |\n| utils      | ls                | list files in work dir                      |\n| utils      | pwd               | print the name of work directory            |\n| utils      | tail              | print the last 10 lines of a file           |\n| validation | taskname          | get the FL taskname                         |\n| validation | validate          | cross sites validation                      |\n--------------------------------------------------------------------------------\n```",
      "metadata": {
        "pycharm": {
          "metadata": false
        }
      }
    },
    {
      "cell_type": "markdown",
      "source": "## 2- Check server/client status\ntype \n```\n\u003e check_status server\n```\nto see \n```\nFL run number has not been set.\nFL server status: training not started\nRegistered clients: 2\n client name:client1    instance name:client1   token: 3c3d2276-c3bf-40c1-bc02-9be84d7c339f \nclient name:client2     instance name:client2   token: 92806548-5515-4977-894e-612900ff8b1b\n```\nTo check on clients type \n```\n\u003e check_status client\n```\nto see \n```\ninstance:client1 : client name: client1 token: 3c3d2276-c3bf-40c1-bc02-9be84d7c339f     status: training not started\ninstance:client2 : client name: client2 token: 92806548-5515-4977-894e-612900ff8b1b     status: training not started\n```\nTo check on folder structure \n\n```\n\u003e info\n```\nTo see\n```\nLocal Upload Source: /claraDevDay/FL/project1/admin/startup/../transfer\nLocal Download Destination: /claraDevDay/FL/project1/admin/startup/../transfer\nServer Upload Destination: /claraDevDay/FL/project1/server/startup/../transfer\nServer Download Source: /claraDevDay/FL/project1/server/startup/../transfer\n```",
      "metadata": {
        "pycharm": {
          "metadata": false
        }
      }
    },
    {
      "cell_type": "markdown",
      "source": "## 2.1- Check server/client hardware \nLead researcher would need to know the hardware each client has. \nTo do this type \n```\n\u003e sys_info client\n```\nto see \n```\ninstance:client1\n-------------------------------------------\n| METRICS          | VALUE                |\n-------------------------------------------\n| total            | 270394548224         |\n| available        | 251568816128         |\n| percent          | 7.0                  |\n| used             | 16031117312          |\n| free             | 193604014080         |\n| active           | 30689943552          |\n| inactive         | 40457510912          |\n| buffers          | 3414425600           |\n| cached           | 57344991232          |\n| shared           | 698941440            |\n| slab             | 4086128640           |\n| gpu_count        | 4                    |\n| gpu_device_0     | Tesla V100-DGXS-32GB |\n| gpu_device_1     | Tesla V100-DGXS-32GB |\n| gpu_device_2     | Tesla V100-DGXS-32GB |\n| gpu_device_3     | Tesla V100-DGXS-32GB |\n| availabe_percent | 93.0                 |\n-------------------------------------------\n```\n",
      "metadata": {
        "pycharm": {
          "metadata": false
        }
      }
    },
    {
      "cell_type": "markdown",
      "source": "## 3- Upload files to server staging \n\nTo upload files \n```\n\u003e upload_folder ../../../adminMMAR\n```\nOr if you already have a MMAR ready (as from teh DomainExample folder) you should copy it to transfer folder then run \n```\n\u003e upload_folder \u003cmy MMAR from DomainExmaples\u003e\n```\nThis will create folder on server/ transfer \n```\nCreated folder /claraDevDay/FL/project1/server/startup/../transfer/adminMMAR\n```\n\nWe can verify that files has been transferred to staging \n",
      "metadata": {
        "pycharm": {
          "metadata": false
        }
      }
    },
    {
      "cell_type": "code",
      "execution_count": null,
      "outputs": [],
      "source": "!tree $MMAR_DIR/server/transfer\n",
      "metadata": {
        "pycharm": {
          "metadata": false,
          "name": "#%%\n"
        }
      }
    },
    {
      "cell_type": "markdown",
      "source": "## 4- Deploy from server staging into a run in the server and client  \nFolder is not on the server staging area in `transfer` folder. \nwe need to create a run then copy this folder into the server and client.\n\n1. `\u003e set_run_number 1`\n2. `\u003e deploy adminMMAR server`\n3. `\u003e deploy adminMMAR client`  For all clients OR\n    1. `\u003e deploy adminMMAR client client1`  --\u003e to copy only for client1\n\nWe can verify that files has been transferred to server and clients ",
      "metadata": {
        "pycharm": {
          "metadata": false,
          "name": "#%% md\n"
        }
      }
    },
    {
      "cell_type": "code",
      "execution_count": null,
      "outputs": [],
      "source": "!tree $MMAR_DIR/server/run_1",
      "metadata": {
        "pycharm": {
          "metadata": false,
          "name": "#%%\n"
        }
      }
    },
    {
      "cell_type": "code",
      "execution_count": null,
      "outputs": [],
      "source": "!tree $MMAR_DIR/client1/run_1",
      "metadata": {
        "pycharm": {
          "metadata": false,
          "name": "#%%\n"
        }
      }
    },
    {
      "cell_type": "code",
      "execution_count": null,
      "outputs": [],
      "source": "!tree $MMAR_DIR/client2/run_1",
      "metadata": {
        "pycharm": {
          "metadata": false,
          "name": "#%%\n"
        }
      }
    },
    {
      "cell_type": "markdown",
      "source": "\n## 5- Start Training\nNow you can start training by:\n1. `\u003e start server`\n2. `\u003e start client`\n\nYou can check on the status of the training using:\n1. `\u003e check_status client` or `\u003e check_status server`  to see \n```\n\u003e check_status server\nFL run number:1\nFL server status: training started\nrun number:1    start round:0   max round:20    current round:0\nmin_num_clients:1       max_num_clients:100\nRegistered clients: 1\n client name:client1    instance name:client1   token: 3eb835cc-2359-4683-8a0a-3083abf2e5d2\n```\n2. get logs from clients using `cat server log.txt`\n\n",
      "metadata": {
        "pycharm": {
          "metadata": false,
          "name": "#%% md\n"
        }
      }
    },
    {
      "cell_type": "markdown",
      "source": "## 6- Stop Training (if needed ) \nYou could send signals to stop the training if you need to using:\n- `abort client`\n- `abort server`\n\n",
      "metadata": {
        "pycharm": {
          "metadata": false
        }
      }
    },
    {
      "cell_type": "markdown",
      "source": "## 7- Cross site validate\nOnce training is completed, you would like to get the validation matrices. \nThis is another area where Clara FL shines. \nSince the true power of FL is to get teh off diagonal values, which show that the model generalizes across sites. \nBefore you needed to move either hte data or the selected model to each site and run validataion. \nNow with cross site validation feature it is done automatically for you.\nAll you need to do is have the file `config_cross_site_validataion.json` as part of your MMAR, and have set the flag \n`\"cross_site_validate\": true` in the client section of the config_fed_client.json. \nThese settings is already set up in this example so all if left is to\n\nRun `validate all` to pull the result back to the server, you could also run `validate source_site target_site`\n\nYou should see something like \n```\nvalidate all\n{\u0027client1\u0027: {\u0027client2\u0027: {\u0027validation\u0027: {\u0027mean_dice\u0027: 0.0637669786810875}}, \u0027client1\u0027: {\u0027validation\u0027: {\u0027mean_dice\u0027: 0.07123523205518723}}, \u0027server\u0027: {\u0027validation\u0027: {\u0027mean_dice\u0027: 0.07032141834497452}}}, \u0027client2\u0027: {\u0027client2\u0027: {\u0027validation\u0027: {\u0027mean_dice\u0027: 0.06376668065786362}}, \u0027client1\u0027: {\u0027validation\u0027: {\u0027mean_dice\u0027: 0.07123514264822006}}, \u0027server\u0027: {\u0027validation\u0027: {\u0027mean_dice\u0027: 0.07032135874032974}}}}\nDone [11570 usecs] 2020-09-03 18:49:41.485214\n``` \nparsing this json and putting it in a table would look like \nMetric \u003d validation mean_dice \n\n _ | Client 1 | Client 2 | Server  \n :--- | :--- | :---: | --- \nClient 1 | 0.07123523205518723 | 0.0637669786810875 | 0.07032141834497452\nClient 2 | 0.07123514264822006 | 0.06376668065786362| 0.07032135874032974\n",
      "metadata": {
        "pycharm": {
          "metadata": false
        }
      }
    },
    {
      "cell_type": "markdown",
      "source": "## 8- Check models in your model dir \nAfter training is completed you can check the models in the model folder of the mmar. \nNote each client will have slitly different model as each client selects the best model for his own validataion data. \nAlso the FL server will have a different model in the model folder.  \n\nRunning cell below will show you the model folder in for a client and server ",
      "metadata": {
        "pycharm": {
          "metadata": false
        }
      }
    },
    {
      "cell_type": "code",
      "execution_count": null,
      "outputs": [],
      "source": "!tree $MMAR_DIR/server/run_1",
      "metadata": {
        "pycharm": {
          "metadata": false,
          "name": "#%%\n"
        }
      }
    },
    {
      "cell_type": "code",
      "execution_count": null,
      "outputs": [],
      "source": "!tree $MMAR_DIR/client1/run_1\n",
      "metadata": {
        "pycharm": {
          "metadata": false,
          "name": "#%%\n"
        }
      }
    },
    {
      "cell_type": "markdown",
      "source": "## 9- (Optional) restart clients \nIf something happens with one of your client related to gpu issues, memory, temp disk space.\n You can restart the server or client using\n- `restart client`\n- `restart server`\n",
      "metadata": {
        "pycharm": {
          "metadata": false
        }
      }
    },
    {
      "cell_type": "markdown",
      "source": "## 10- Finally shut down client and servers \nIf you are done with all experiments you can shut down client and servers.\n- `shutdown client`\n- `shutdown server`\n\n__Note: this will kill the client/server connection, \nfor any new experiments you will need to contact client sites to run the start.sh again__\n",
      "metadata": {
        "pycharm": {
          "metadata": false
        }
      }
    },
    {
      "cell_type": "markdown",
      "source": "## 11- (optional) check serer/clients hardware configurations  \nWhile running a large FL experiment, lead researches must know the hardware of all clients. \nBelow is a list of commands to enable this \n- `sys_info server (or clientName)`\n- `env server (or clientName)`\n",
      "metadata": {
        "pycharm": {
          "metadata": false
        }
      }
    },
    {
      "cell_type": "markdown",
      "source": "## 12. Check Audit trail logs\nFL server and FL clients would want to know how their system was used. \nClara train provides an audit trail to track **Who** did **What** and **When**.\ncell below show audit trail for server and clients \n",
      "metadata": {
        "pycharm": {
          "metadata": false
        }
      }
    },
    {
      "cell_type": "code",
      "execution_count": null,
      "outputs": [],
      "source": "!cat /claraDevDay/FL/project1/server/audit.log",
      "metadata": {
        "pycharm": {
          "metadata": false,
          "name": "#%%\n"
        }
      }
    },
    {
      "cell_type": "code",
      "execution_count": null,
      "outputs": [],
      "source": "!cat /claraDevDay/FL/project1/client1/audit.log",
      "metadata": {
        "pycharm": {
          "metadata": false,
          "name": "#%%\n"
        }
      }
    },
    {
      "cell_type": "code",
      "execution_count": null,
      "outputs": [],
      "source": "!cat /claraDevDay/FL/project1/client2/audit.log",
      "metadata": {
        "pycharm": {
          "metadata": false,
          "name": "#%%\n"
        }
      }
    },
    {
      "cell_type": "markdown",
      "source": "# Next steps:\nYou can now move to more advanced features of FL by running [Admin BYOC Notebook](Admin_BYOC.ipynb)\n",
      "metadata": {
        "pycharm": {
          "metadata": false
        }
      }
    },
    {
      "cell_type": "markdown",
      "source": "# Exercise:\n### 1. Use a real dataset\nYou could change the dataset to use the spleen data set already downloaded by following Follow [Data Download Notebook](../../Data_Download.ipynb). \nthings you would want to change:\n    1. Make sure to split the data between different clients.\n    1. Change number of `local_epochs` in the config_fed_client.json to a higher number \n    ```\n        \"client\": {\n        \"local_epochs\": 5,\n    ``` \n    1. Change parameters in the config_fed_server.json as how many rounds:\n    ```\n        \"min_num_clients\": 1,\n        \"max_num_clients\": 100,\n        \"start_round\": 0,\n        \"num_rounds\": 2,  --\u003e Number of training rounds \n        \"num_rounds_per_valid\": 1, --\u003e how often to run validation on clients\n    ```\n",
      "metadata": {
        "pycharm": {
          "metadata": false
        }
      }
    },
    {
      "cell_type": "markdown",
      "source": "### 2. User separate docker containers     \n2. You should move to more realistic setup as the one show below where each client is running a separate docker container.\n\n\u003cbr\u003e\u003cimg src\u003d\"screenShots/Workshop_3Docker.png\" alt\u003d\"Drawing\" style\u003d\"height: 300px;\"/\u003e\u003cbr\u003e\n\nYou would be able to have the same layout as we did above. \nThat is to have a jupyter lab opened with multiple terminals running a different docker. \nFor this to work you will need to \n1. Shut down this docker image \n2. run [startDocker.sh](FLBYOTrainer/startDocker.sh). \nThis will create a new docker image of clara train and add docker commands.\nIt will also connect to the docker demon running on the host.   \n",
      "metadata": {
        "pycharm": {
          "metadata": false
        }
      }
    },
    {
      "cell_type": "markdown",
      "source": "    \nIn the new instance you should For this you need to:\n1. In this docker instance:\n    1. Shutdown any FL Clients from the admin console run `shutdown client`.\n    2. You can keep the server running as is, along with the admin client \n2. Start docker for a client\n    1. Open new terminal in the jupyter lab. This will have access to the host docker daemon\n    2. run `cd /claraDevDay/FL/project1/Client_x/startup` \n    2. Go to the `FL/Project_xx/Client_x/Startup` dir\n    3. edit `docker.sh` to:\n        1. modify `MY_DATA_DIR\u003d/home/data` to point to the host path for \n        2. (optional) also you may need to modify the docker image to be pulled\n    4. run `docker.sh` this will start the docker with your client name\n    5. once in the docker:\n        1. check data dir using `ll /data`\n        2. start the client with `start.sh`\n3. Repeat step 2 above for each client \n4. Back with the admin client console\n    1. Set a new run number \n    2. Upload mmar folder to new clients\n    3. Start training    \n",
      "metadata": {
        "pycharm": {
          "metadata": false,
          "name": "#%% md\n"
        }
      }
    },
    {
      "cell_type": "markdown",
      "source": "### 3 Move to Realistic FL Experiment :\nIn all steps above we were launching all participants from with in the same docker as in image below. \n\u003cbr\u003e\n\u003cimg src\u003d\"screenShots/Workshop_1Docker.png\" alt\u003d\"Drawing\" style\u003d\"height: 300px;\"/\u003e\u003cbr\u003e \nThe main unrealistic part is that all clients were sharing the same dataset.json file.\n1. You should modify each client dataset.json file to point to a mutual exclusive portion of the dataset.  \nThis could be done by:\n    1. modify the dataset.json after admin uploads the file to the client. \n    this is not realistic since admin won\u0027t have access to local clients, however, it is easier to test \n    2. set separate dataset json in the admin transfer folder and upload different mmars to different clients.\n    This is more realistic to how it would happen in real life. \n",
      "metadata": {
        "pycharm": {
          "metadata": false
        }
      }
    },
    {
      "cell_type": "markdown",
      "source": "2. You should now run the Admin from your local laptop as shown below\n\u003cbr\u003e\u003cimg src\u003d\"screenShots/Workshop_Realistic.png\" alt\u003d\"Drawing\" style\u003d\"height: 300px;\"/\u003e\u003cbr\u003e\n For this setup you will need to:\n    1. Unzip the startup admin kit on your laptop\n    2. `cd startup`\n    3. `pip install clara_hci-3.1.0-py3-none-any.whl` to install packages. You could also run it in a virtual env\n    4. `./fl_admin.sh` for linux/mac or `fl_admin.bat` for windows  \n    5. Repeat a full FL experiment 2 with a new run number ",
      "metadata": {
        "pycharm": {
          "metadata": false
        }
      }
    }
  ],
  "metadata": {
    "kernelspec": {
      "display_name": "Python 3",
      "language": "python",
      "name": "python3"
    },
    "language_info": {
      "codemirror_mode": {
        "name": "ipython",
        "version": 3
      },
      "file_extension": ".py",
      "mimetype": "text/x-python",
      "name": "python",
      "nbconvert_exporter": "python",
      "pygments_lexer": "ipython3",
      "version": "3.6.8"
    },
    "stem_cell": {
      "cell_type": "raw",
      "source": "\u003c!--- SPDX-License-Identifier: Apache-2.0 --\u003e\n",
      "metadata": {
        "pycharm": {
          "metadata": false
        }
      }
    }
  },
  "nbformat": 4,
  "nbformat_minor": 4
}