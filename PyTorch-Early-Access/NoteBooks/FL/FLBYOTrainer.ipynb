{
  "cells": [
    {
      "cell_type": "markdown",
      "source": "\n# Bring your own Trainer to Clara FL \n\nIn V4 Clara FL allows you to bring your own trainer that could be anything.\nTherefore it does not need to use clara train. \nThis Notebook shows how to use clara FL using a MONAL trainer.\nFollowing this steps you could then change it to bring your own Tensorflow trainer \nor any Non Deep learning algorithm \n\n## 1. Brief Introduction\n\nWe are providing scripts to get started with BYO Trainer in a similar experience as we showed using clara train sdk.\nIf you are using clara train sdk docker image, you will need to shut it down.\nYou would follow steps below that will launch a new jupyter lab based on MONAI docker and not clara train \n\n## 2. Build Docker Image \n\nWe need to build a docker image for the experiment. \nThis docker should contain the framework that would run on the client and server. \nYou simply need to run `startDocker.sh` this will:\n- build a docker image based on MONAI\u0027s latest docker image in dockerhub\n- Install the fl wheel file \n- Install zip utility\n- tag the image as `projectmonai/monaiwfl:0.1`\n\nSteps above are controlled from the [Dockerfile](FLBYOTrainer/docker/Dockerfile)\n \nIn the end the `startDocker.sh` will launch a jupyter lab you should see output as \n```\n[I 16:49:04.476 LabApp] Serving notebooks from local directory: /claraDevDay\n[I 16:49:04.476 LabApp] Jupyter Notebook 6.2.0 is running at:\n[I 16:49:04.476 LabApp] http://hostname:8888/?token\u003d43f3dbe2acfab1f4412279d7a7b40d8471e5c966845299ea\n[I 16:49:04.476 LabApp] Use Control-C to stop this server and shut down all kernels (twice to skip confirmation).\n[C 16:49:04.480 LabApp] \n    To access the notebook, open this file in a browser:\n        file:///root/.local/share/jupyter/runtime/nbserver-1-open.html\n    Or copy and paste this URL:\n        http://hostname:8888/?token\u003d43f3dbe2acfab1f4412279d7a7b40d8471e5c966845299ea\n```\n\n \n\n- Copy your trainer into the image by running `cp -r /workspace/monai_fl_example/monai_fl_spleen/trainers/ /opt/monai`\n\n## 3. Provision Package Preparation\n\nYou can now use the `provision` command to provision your FL experiment.\nYou can still use the same [Provisioning Notebook](../Provisioning.ipynb) to generate the packages\nPlease note that you are in a different container than clara train so you would need to redo the steps\n\n## 4. Run Admin client \n\nOne you extracted the packages, you can follow along the [Admin Notebook](Admin.ipynb).\nOnly difference is that you upload the [adminMMAR_BYOT_monai Folder](adminMMAR_BYOT_monai) instead of [adminMMAR Folder](adminMMAR)\n\n \n\n\n",
      "metadata": {
        "pycharm": {
          "metadata": false
        }
      }
    }
  ],
  "metadata": {
    "kernelspec": {
      "display_name": "Python 3",
      "language": "python",
      "name": "python3"
    },
    "language_info": {
      "codemirror_mode": {
        "name": "ipython",
        "version": 3
      },
      "file_extension": ".py",
      "mimetype": "text/x-python",
      "name": "python",
      "nbconvert_exporter": "python",
      "pygments_lexer": "ipython3",
      "version": "3.6.8"
    },
    "stem_cell": {
      "cell_type": "raw",
      "source": "\u003c!--- SPDX-License-Identifier: Apache-2.0 --\u003e\n",
      "metadata": {
        "pycharm": {
          "metadata": false
        }
      }
    }
  },
  "nbformat": 4,
  "nbformat_minor": 4
}