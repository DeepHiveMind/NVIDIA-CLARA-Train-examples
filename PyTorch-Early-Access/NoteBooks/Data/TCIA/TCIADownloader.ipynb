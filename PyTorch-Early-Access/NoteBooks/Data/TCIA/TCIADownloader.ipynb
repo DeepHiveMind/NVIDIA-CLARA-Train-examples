{
  "cells": [
    {
      "cell_type": "markdown",
      "source": "# Download dataset form NIH cancer imaging archive  \nThis cancer imaging archive is a great source for medical data sets. \nThis notebook will walk you through:\n1- Selecting a dataset\n2- Downloading your datset\n3- Converting data dicom images to nifti \n4- Converting data dicom seg images to nifti\n5- Creating your dataset json to begin training your AI models \n",
      "metadata": {
        "pycharm": {
          "metadata": false
        }
      }
    },
    {
      "cell_type": "markdown",
      "source": "# 0. Clone code \nClone code from tcia_downloader repo, move it to this directory",
      "metadata": {
        "pycharm": {
          "metadata": false
        }
      }
    },
    {
      "cell_type": "code",
      "execution_count": null,
      "outputs": [],
      "source": "!git clone https://github.com/lescientifik/tcia_downloader /claraDevDay/Data/TCIA/tmp\n!mv -vn /claraDevDay/Data/TCIA/tmp/* /claraDevDay/Data/TCIA/\n!mv -vn /claraDevDay/Data/TCIA/tmp/src/* /claraDevDay/Data/TCIA/src/",
      "metadata": {
        "pycharm": {
          "metadata": false,
          "name": "#%%\n"
        }
      }
    },
    {
      "cell_type": "markdown",
      "source": "# 1. Select images to download\nYou can find out different studies from [their site](https://www.cancerimagingarchive.net/collections/). \nUsing the [online tool](https://nbia.cancerimagingarchive.net/nbia-search/), \nyou can download list of images you would like to download.\n\u003cbr\u003e\u003cimg src\u003d\"../screenShots/TCIADownload.png\" alt\u003d\"Drawing\" style\u003d\"width: 600px; height: 400px;\"/\u003e\u003cbr\u003e\nAfter adding images into your cart you would download a tcia file that you can use to download your dataset ",
      "metadata": {
        "pycharm": {
          "metadata": false
        }
      }
    },
    {
      "cell_type": "code",
      "execution_count": null,
      "outputs": [],
      "source": "DataRoot\u003d\"/claraDevDay/Data/\"\nCodeRoot\u003d\"/claraDevDay/Data/tcia-master\"\n%cd $CodeRoot\n!pwd\n",
      "metadata": {
        "pycharm": {
          "metadata": false,
          "name": "#%%\n"
        }
      }
    },
    {
      "cell_type": "markdown",
      "source": "### Download needed conversion tool ",
      "metadata": {
        "pycharm": {
          "metadata": false
        }
      }
    },
    {
      "cell_type": "code",
      "execution_count": null,
      "outputs": [],
      "source": "! wget https://github.com/QIICR/dcmqi/releases/download/v1.2.2/dcmqi-1.2.2-linux.tar.gz \u0026\u0026 \\\n    tar xf dcmqi-1.2.2-linux.tar.gz \u0026\u0026 \\\n    cp dcmqi-1.2.2-linux/bin/segimage2itkimage /usr/local/bin/ \u0026\u0026 \\\n    rm -rf dcmqi-1.2.2-linux*\n",
      "metadata": {
        "pycharm": {
          "metadata": false,
          "name": "#%%\n"
        }
      }
    },
    {
      "cell_type": "markdown",
      "source": "# 1. Setup data directories \n",
      "metadata": {
        "pycharm": {
          "metadata": false
        }
      }
    },
    {
      "cell_type": "code",
      "execution_count": null,
      "outputs": [],
      "source": "TCIA_FileName\u003d\"TCGA-GBM_2Patients_1.tcia\"\nTCIA_FileName\u003d\"C4KC-KiTS_5.tcia\"\nTCIA_FileName\u003d\"NSCLC_5.tcia\" # 6 labels + background needs flag -f ap on converting\n",
      "metadata": {
        "pycharm": {
          "metadata": false,
          "name": "#%%\n"
        }
      }
    },
    {
      "cell_type": "code",
      "execution_count": null,
      "outputs": [],
      "source": "TCIA_FilePath\u003dDataRoot+\"tcia-master/SampleTCIA/\"+TCIA_FileName\nFLD_NAME\u003dDataRoot+TCIA_FileName[:-5]\nFLD_NAME_ZIP\u003dFLD_NAME+\"/ZIP\"\nFLD_NAME_NII\u003dFLD_NAME+\"/nii\"\nFLD_NAME_DCM\u003dFLD_NAME+\"/DCM\"",
      "metadata": {
        "pycharm": {
          "metadata": false,
          "name": "#%%\n"
        }
      }
    },
    {
      "cell_type": "markdown",
      "source": "# 2. Download Dicom data from TCIA ",
      "metadata": {
        "pycharm": {
          "metadata": false,
          "name": "#%% md\n"
        }
      }
    },
    {
      "cell_type": "code",
      "execution_count": null,
      "outputs": [],
      "source": "!python -m src.tcia $TCIA_FilePath $FLD_NAME_ZIP",
      "metadata": {
        "pycharm": {
          "metadata": false,
          "name": "#%%\n"
        }
      }
    },
    {
      "cell_type": "markdown",
      "source": "#### Check on downloaded files ",
      "metadata": {
        "pycharm": {
          "metadata": false
        }
      }
    },
    {
      "cell_type": "code",
      "execution_count": null,
      "outputs": [],
      "source": "! ls -la $FLD_NAME_ZIP",
      "metadata": {
        "pycharm": {
          "metadata": false,
          "name": "#%%\n"
        }
      }
    },
    {
      "cell_type": "markdown",
      "source": "# 3. Unzip files ",
      "metadata": {
        "pycharm": {
          "metadata": false
        }
      }
    },
    {
      "cell_type": "code",
      "execution_count": null,
      "outputs": [],
      "source": "!python src/unzip.py $FLD_NAME_ZIP $FLD_NAME_DCM",
      "metadata": {
        "pycharm": {
          "metadata": false,
          "name": "#%%\n"
        }
      }
    },
    {
      "cell_type": "markdown",
      "source": "#### Check on unzipped dicom files ",
      "metadata": {
        "pycharm": {
          "metadata": false
        }
      }
    },
    {
      "cell_type": "code",
      "execution_count": null,
      "outputs": [],
      "source": "! ls -la $FLD_NAME_DCM",
      "metadata": {
        "pycharm": {
          "metadata": false,
          "name": "#%%\n"
        }
      }
    },
    {
      "cell_type": "markdown",
      "source": "# 4. Convert Dicom seg to Nifti",
      "metadata": {
        "pycharm": {
          "metadata": false
        }
      }
    },
    {
      "cell_type": "code",
      "execution_count": null,
      "outputs": [],
      "source": "!python convert2nii.py $FLD_NAME_DCM -o $FLD_NAME_NII -f ap",
      "metadata": {
        "pycharm": {
          "metadata": false,
          "name": "#%%\n"
        }
      }
    },
    {
      "cell_type": "markdown",
      "source": "#### Check on label nifti files ",
      "metadata": {
        "pycharm": {
          "metadata": false
        }
      }
    },
    {
      "cell_type": "code",
      "execution_count": null,
      "outputs": [],
      "source": "! ls -la $FLD_NAME_NII",
      "metadata": {
        "pycharm": {
          "metadata": false,
          "name": "#%%\n"
        }
      }
    },
    {
      "cell_type": "markdown",
      "source": "# 5. Convert Dicom Images to Nifti",
      "metadata": {
        "pycharm": {
          "metadata": false
        }
      }
    },
    {
      "cell_type": "code",
      "execution_count": null,
      "outputs": [],
      "source": "# ! /claraDevDay/Data/tcia-master/3rdParty/dcm2niix -h\n! /claraDevDay/Data/tcia-master/3rdParty/dcm2niix -f %i -z y -o $FLD_NAME_NII $FLD_NAME_DCM\n# !python convert2nii.py $FLD_NAME_DCM -o $FLD_NAME_NII -d",
      "metadata": {
        "pycharm": {
          "metadata": false,
          "name": "#%%\n"
        }
      }
    },
    {
      "cell_type": "markdown",
      "source": "#### Check on nifti image files ",
      "metadata": {
        "pycharm": {
          "metadata": false
        }
      }
    },
    {
      "cell_type": "code",
      "execution_count": null,
      "outputs": [],
      "source": "! ls -la $FLD_NAME_NII\n\n",
      "metadata": {
        "pycharm": {
          "metadata": false,
          "name": "#%%\n"
        }
      }
    },
    {
      "cell_type": "markdown",
      "source": "# 6. Create dataset.Json File ",
      "metadata": {
        "pycharm": {
          "metadata": false
        }
      }
    },
    {
      "cell_type": "code",
      "source": "import fileIO\nimport glob\n\nDATA_ROOT \u003d FLD_NAME_NII\nwrtfilename \u003d DATA_ROOT + \"dataSet.json\"\n\nprint(\"finding files in \"+DATA_ROOT)\ndataJson\u003dfileIO.DataJson(DATA_ROOT)\nfor fName in glob.glob(DATA_ROOT+\u0027/*_seg.nii.gz\u0027,recursive\u003dTrue):\n#     print (fName)\n    fName\u003d fName.replace(DATA_ROOT,\"\") # remove full path\n    gtName \u003d fName\n    imgName \u003d fName.replace(\"_seg\", \"\")\n    dataJson.appendDataPt(imgName,gtName)\ndataJson.write2file(wrtfilename)\n\n",
      "metadata": {
        "pycharm": {
          "metadata": false,
          "name": "#%%\n"
        }
      },
      "execution_count": null,
      "outputs": []
    },
    {
      "cell_type": "markdown",
      "source": "# 7. Visualization\nNow lets visualize one image from the downloaded data\n",
      "metadata": {
        "pycharm": {
          "metadata": false
        }
      }
    },
    {
      "cell_type": "code",
      "execution_count": null,
      "outputs": [],
      "source": "import matplotlib.pyplot as plt\n\nvol,_ \u003d fileIO.openNifti(dataJson.getItemAt(0))\nseg,_ \u003d fileIO.openNifti(dataJson.getItemAt(0,\"label\"))\n\nplt.figure(figsize\u003d(40,40))\nrows \u003d 5\nfor i,z in enumerate(range(30,vol.shape[2],20)):\n    print(\"in \",str(i) ,\"z \u003d \",z)\n    plt.subplot(rows, 2, 2*i+1 )\n    plt.imshow(vol[:,:,z])\n    plt.subplot(rows, 2, 2*i+2 )\n    plt.imshow(seg[:,:,z])\n",
      "metadata": {
        "pycharm": {
          "metadata": false,
          "name": "#%% \n"
        }
      }
    }
  ],
  "metadata": {
    "kernelspec": {
      "display_name": "Python 3",
      "language": "python",
      "name": "python3"
    },
    "language_info": {
      "codemirror_mode": {
        "name": "ipython",
        "version": 3
      },
      "file_extension": ".py",
      "mimetype": "text/x-python",
      "name": "python",
      "nbconvert_exporter": "python",
      "pygments_lexer": "ipython3",
      "version": "3.6.8"
    },
    "stem_cell": {
      "cell_type": "raw",
      "source": "\u003c!--- SPDX-License-Identifier: Apache-2.0 --\u003e\n",
      "metadata": {
        "pycharm": {
          "metadata": false
        }
      }
    }
  },
  "nbformat": 4,
  "nbformat_minor": 4
}