{
  "cells": [
    {
      "cell_type": "markdown",
      "source": "# Download Decathlon Dataset with Monai APIs \n",
      "metadata": {
        "pycharm": {
          "metadata": false
        }
      }
    },
    {
      "cell_type": "code",
      "execution_count": null,
      "outputs": [],
      "source": "DataRoot\u003d\"/claraDevDay/Data/DecathlonDataset\"\n%cd $DataRoot\n!pwd\n",
      "metadata": {
        "pycharm": {
          "metadata": false,
          "name": "#%%\n"
        }
      }
    },
    {
      "cell_type": "code",
      "execution_count": null,
      "outputs": [],
      "source": "import monai\nmonai.config.print_config()\n",
      "metadata": {
        "pycharm": {
          "metadata": false,
          "name": "#%%\n"
        }
      }
    },
    {
      "cell_type": "markdown",
      "source": "## 1. Brain Tumor Data Set\n",
      "metadata": {
        "pycharm": {
          "metadata": false
        }
      }
    },
    {
      "cell_type": "code",
      "execution_count": null,
      "outputs": [],
      "source": "myTask\u003d\u0027Task01_BrainTumour\u0027\ndataset \u003d monai.apps.DecathlonDataset(root_dir\u003dDataRoot, task\u003dmyTask, section\u003d\"training\", download\u003dTrue)",
      "metadata": {
        "pycharm": {
          "metadata": false,
          "name": "#%%\n"
        }
      }
    },
    {
      "cell_type": "markdown",
      "source": "\n## 2. Heart Data Set",
      "metadata": {
        "pycharm": {
          "metadata": false
        }
      }
    },
    {
      "cell_type": "code",
      "execution_count": null,
      "outputs": [],
      "source": "myTask\u003d\u0027Task02_Heart\u0027\ndataset \u003d monai.apps.DecathlonDataset(root_dir\u003dDataRoot, task\u003dmyTask, section\u003d\"training\", download\u003dTrue)",
      "metadata": {
        "pycharm": {
          "metadata": false,
          "name": "#%%\n"
        }
      }
    },
    {
      "cell_type": "markdown",
      "source": "\n## 3. Liver Data Set\n",
      "metadata": {
        "pycharm": {
          "metadata": false
        }
      }
    },
    {
      "cell_type": "code",
      "execution_count": null,
      "outputs": [],
      "source": "myTask\u003d\"Task03_Liver\" # will take along time (3+ hours )\ndataset \u003d monai.apps.DecathlonDataset(root_dir\u003dDataRoot, task\u003dmyTask, section\u003d\"training\", download\u003dTrue)",
      "metadata": {
        "pycharm": {
          "metadata": false,
          "name": "#%%\n"
        }
      }
    },
    {
      "cell_type": "markdown",
      "source": "\n## 4. Hippocampus Data Set",
      "metadata": {
        "pycharm": {
          "metadata": false
        }
      }
    },
    {
      "cell_type": "code",
      "execution_count": null,
      "outputs": [],
      "source": "myTask\u003d\u0027Task04_Hippocampus\u0027\ndataset \u003d monai.apps.DecathlonDataset(root_dir\u003dDataRoot, task\u003dmyTask, section\u003d\"training\", download\u003dTrue)",
      "metadata": {
        "pycharm": {
          "metadata": false,
          "name": "#%%\n"
        }
      }
    },
    {
      "cell_type": "markdown",
      "source": "\n## 5. Prostate Data Set\n",
      "metadata": {
        "pycharm": {
          "metadata": false
        }
      }
    },
    {
      "cell_type": "code",
      "execution_count": null,
      "outputs": [],
      "source": "myTask\u003d\u0027Task05_Prostate\u0027\ndataset \u003d monai.apps.DecathlonDataset(root_dir\u003dDataRoot, task\u003dmyTask, section\u003d\"training\", download\u003dTrue)",
      "metadata": {
        "pycharm": {
          "metadata": false,
          "name": "#%%\n"
        }
      }
    },
    {
      "cell_type": "markdown",
      "source": "\n## 6. Lung Data Set\n",
      "metadata": {
        "pycharm": {
          "metadata": false
        }
      }
    },
    {
      "cell_type": "code",
      "execution_count": null,
      "outputs": [],
      "source": "myTask\u003d\u0027Task06_Lung\u0027\ndataset \u003d monai.apps.DecathlonDataset(root_dir\u003dDataRoot, task\u003dmyTask, section\u003d\"training\", download\u003dTrue)",
      "metadata": {
        "pycharm": {
          "metadata": false,
          "name": "#%%\n"
        }
      }
    },
    {
      "cell_type": "markdown",
      "source": "\n## 7. Pancreas Data Set\n",
      "metadata": {
        "pycharm": {
          "metadata": false
        }
      }
    },
    {
      "cell_type": "code",
      "execution_count": null,
      "outputs": [],
      "source": "myTask\u003d\u0027Task07_Pancreas\u0027\ndataset \u003d monai.apps.DecathlonDataset(root_dir\u003dDataRoot, task\u003dmyTask, section\u003d\"training\", download\u003dTrue)",
      "metadata": {
        "pycharm": {
          "metadata": false,
          "name": "#%%\n"
        }
      }
    },
    {
      "cell_type": "markdown",
      "source": "\n## 8. Hepatic Vessel Data Set\n",
      "metadata": {
        "pycharm": {
          "metadata": false
        }
      }
    },
    {
      "cell_type": "code",
      "execution_count": null,
      "outputs": [],
      "source": "myTask\u003d\u0027Task08_HepaticVessel\u0027\ndataset \u003d monai.apps.DecathlonDataset(root_dir\u003dDataRoot, task\u003dmyTask, section\u003d\"training\", download\u003dTrue)",
      "metadata": {
        "pycharm": {
          "metadata": false,
          "name": "#%%\n"
        }
      }
    },
    {
      "cell_type": "markdown",
      "source": "\n## 9. Spleen Data Set\n",
      "metadata": {
        "pycharm": {
          "metadata": false
        }
      }
    },
    {
      "cell_type": "code",
      "execution_count": null,
      "outputs": [],
      "source": "myTask\u003d \u0027Task09_Spleen\u0027\ndataset \u003d monai.apps.DecathlonDataset(root_dir\u003dDataRoot, task\u003dmyTask, section\u003d\"training\", download\u003dTrue)",
      "metadata": {
        "pycharm": {
          "metadata": false,
          "name": "#%%\n"
        }
      }
    },
    {
      "cell_type": "markdown",
      "source": "## 10. Colon Data Set\n",
      "metadata": {
        "pycharm": {
          "metadata": false
        }
      }
    },
    {
      "cell_type": "code",
      "execution_count": null,
      "outputs": [],
      "source": "myTask\u003d\u0027Task10_Colon\u0027\ndataset \u003d monai.apps.DecathlonDataset(root_dir\u003dDataRoot, task\u003dmyTask, section\u003d\"training\", download\u003dTrue)\n",
      "metadata": {
        "pycharm": {
          "metadata": false,
          "name": "#%%\n"
        }
      }
    },
    {
      "cell_type": "markdown",
      "source": "## Check on data\nFor any of the downloaded data set above you can run cell below to check on number of data sets and the image shape",
      "metadata": {
        "pycharm": {
          "metadata": false
        }
      }
    },
    {
      "cell_type": "code",
      "execution_count": null,
      "outputs": [],
      "source": "print(dataset.get_properties(\"numTraining\"))\nprint(dataset.get_properties(\"description\"))\n",
      "metadata": {
        "pycharm": {
          "metadata": false,
          "name": "#%%\n"
        }
      }
    },
    {
      "cell_type": "code",
      "execution_count": null,
      "outputs": [],
      "source": "print(dataset[0][\u0027image\u0027].shape)\nprint(dataset[0][\u0027label\u0027].shape)\n\n",
      "metadata": {
        "pycharm": {
          "metadata": false,
          "name": "#%%\n"
        }
      }
    }
  ],
  "metadata": {
    "kernelspec": {
      "display_name": "Python 3",
      "language": "python",
      "name": "python3"
    },
    "language_info": {
      "codemirror_mode": {
        "name": "ipython",
        "version": 3
      },
      "file_extension": ".py",
      "mimetype": "text/x-python",
      "name": "python",
      "nbconvert_exporter": "python",
      "pygments_lexer": "ipython3",
      "version": "3.6.8"
    },
    "stem_cell": {
      "cell_type": "raw",
      "source": "\u003c!--- SPDX-License-Identifier: Apache-2.0 --\u003e\n",
      "metadata": {
        "pycharm": {
          "metadata": false
        }
      }
    }
  },
  "nbformat": 4,
  "nbformat_minor": 4
}