{
  "cells": [
    {
      "cell_type": "markdown",
      "metadata": {
        "pycharm": {}
      },
      "source": "### Downloading Spleen segmentation dataset from the Medical Segmentation Decathlon (Task09_Spleen) \n"
    },
    {
      "cell_type": "markdown",
      "source": "In order to showcase the performance features within Clara we need a test dataset. \nFor the associated [Performance Spleen Notebook](Performance/PerformanceSpleen.ipynb).\n",
      "metadata": {
        "pycharm": {
          "metadata": false
        }
      }
    },
    {
      "cell_type": "markdown",
      "metadata": {
        "pycharm": {}
      },
      "source": "This spleen dataset was comprised of patients undergoing chemotherapy treatment for liver metastases at Memorial Sloan Kettering Cancer Center (New York, NY, USA). \nSixty-one portalvenous phase CT scans were included with CT acquisition and reconstruction parameters similar to the Task08_HepaticVessel dataset. \nThe spleen was semi-automatically segmented using the Scout application. \nA spline was drawn on the region of interest and grown using a level-set based approach. Contours were manually adjusted by an expert abdominal radiologist. \nSee [A large annotated medical image dataset for the development and evaluation of segmentation algorithms](https://arxiv.org/abs/1902.09063) for additional details.\n"
    },
    {
      "cell_type": "markdown",
      "source": "### Downloading the data\n\nThe data used for this task is Task09_Spleen.tar from http://medicaldecathlon.com/. To download the data you could:\n1. Download the tar file can be found directly at https://drive.google.com/drive/folders/1HqEgzS8BV2c7xYNrZdEAnrHk7osJJ--2 \n2. Running the `download_data.sh` script.\n```\n! chmod 777 /claraDevDay/download_data.sh\n! /claraDevDay/download_data.sh\n```\n3. Running cells bellow ",
      "metadata": {
        "pycharm": {
          "metadata": false
        }
      }
    },
    {
      "cell_type": "code",
      "execution_count": null,
      "outputs": [],
      "source": "# create directory and download cookie \nFILEID\u003d\"1jzeNU1EKnK81PyTsrx0ujfNl-t0Jo8uE\"\nFILNAME\u003d\"Task09_Spleen.tar\"\nDEST_DIR\u003d\"/claraDevDay/spleenData/\"\n!mkdir -p $DEST_DIR\n\ncmd\u003d\u0027curl -c \u0027+DEST_DIR+\u0027/cookie -s -L \"https://drive.google.com/uc?export\u003ddownload\u0026id\u003d\u0027+FILEID+\u0027\" \u003e /dev/null\u0027\nprint(cmd)\n! $cmd\n",
      "metadata": {
        "pycharm": {
          "metadata": false,
          "name": "#%%\n"
        }
      }
    },
    {
      "cell_type": "code",
      "execution_count": null,
      "outputs": [],
      "source": "# start the download \ncmd\u003d\u0027curl -Lb \u0027+DEST_DIR+\u0027/cookie \u0027\ncmd+\u003d\u0027\"https://drive.google.com/uc?export\u003ddownload\u0026confirm\u003d`awk \u0027\ncmd+\u003d\"\u0027/download/ {print $NF}\u0027 \"\ncmd+\u003dDEST_DIR+\u0027/cookie`\u0026id\u003d\"\u0027+FILEID\ncmd+\u003d\" -o \"+DEST_DIR+FILNAME\nprint(cmd)\n! $cmd\n",
      "metadata": {
        "pycharm": {
          "metadata": false,
          "name": "#%%\n"
        }
      }
    },
    {
      "cell_type": "code",
      "execution_count": null,
      "outputs": [],
      "source": "!ls $DEST_DIR\n",
      "metadata": {
        "pycharm": {
          "metadata": false,
          "name": "#%%\n"
        }
      }
    },
    {
      "cell_type": "markdown",
      "source": "### After downloading the Data\nNow lets unzip the downloaded data ",
      "metadata": {
        "pycharm": {
          "metadata": false
        }
      }
    },
    {
      "cell_type": "code",
      "execution_count": null,
      "outputs": [],
      "source": "!ls $DEST_DIR\n!tar -C $DEST_DIR -xvf $DEST_DIR$FILNAME",
      "metadata": {
        "pycharm": {
          "metadata": false,
          "name": "#%%\n"
        }
      }
    },
    {
      "cell_type": "markdown",
      "source": "\nNow lets see that data files ",
      "metadata": {
        "pycharm": {
          "metadata": false
        }
      }
    },
    {
      "cell_type": "code",
      "execution_count": null,
      "outputs": [],
      "source": "!ls -la $DEST_DIR\"Task09_Spleen\"\n",
      "metadata": {
        "pycharm": {
          "metadata": false,
          "name": "#%%\n"
        }
      }
    },
    {
      "cell_type": "markdown",
      "source": "\nFor some exercises in the Notebooks you would want to convert data ti a 1mm resolution. \n",
      "metadata": {
        "pycharm": {
          "metadata": false
        }
      }
    },
    {
      "cell_type": "code",
      "execution_count": null,
      "outputs": [],
      "source": "!nvmidl-dataconvert -d /claraDevDay/spleenData/Task09_Spleen -r 1 -s .nii.gz -e .nii.gz -o /claraDevDay/spleenData/Task09_Spleen_1x1x1mm\n",
      "metadata": {
        "pycharm": {
          "metadata": false,
          "name": "#%%\n"
        }
      }
    }
  ],
  "metadata": {
    "kernelspec": {
      "display_name": "Python 3",
      "language": "python",
      "name": "python3"
    },
    "language_info": {
      "codemirror_mode": {
        "name": "ipython",
        "version": 3
      },
      "file_extension": ".py",
      "mimetype": "text/x-python",
      "name": "python",
      "nbconvert_exporter": "python",
      "pygments_lexer": "ipython3",
      "version": "3.6.8"
    }
  },
  "nbformat": 4,
  "nbformat_minor": 2
}
