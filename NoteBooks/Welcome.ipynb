{
  "cells": [
    {
      "cell_type": "markdown",
      "source": "# Clara Train SDK V3.1 ",
      "metadata": {
        "pycharm": {
          "metadata": false
        }
      }
    },
    {
      "cell_type": "markdown",
      "source": "Welcome to Clara Train SDK. This SDK comes with many features to maximize productivity and minimizes training speed. \nThis SDK aims to have data scientist focus on the medical problem\nwhile having NVIDIA\u0027s software engineers focus on training optimization, \nincluding full gpu utilization and mutli-GPU training\u003cbr\u003e\n\u003cbr\u003e![side_bar](screenShots/ClaraAI.png)",
      "metadata": {
        "pycharm": {
          "metadata": false
        }
      }
    },
    {
      "cell_type": "markdown",
      "source": "\nTable below shows different features in clara train for different releases\n\nRelease | Module | Feature  \n :--- | :---: | --- \n R1 May 2019 | Train | Reproducible science with MMAR structure\n   | Train | Single GPU Training     \n   | Train | Multiple GPU acceleration with MPI and Horovod  \n   | Train | Out of box: Models, losses, metric, optimizer, 2d and 3D elastic transformation\n   | Train | Bring your own components: Models, losses, transforms, metric  \n   | AIAA | Segmentation and Annotation models\n   | AIAA | MITK as a client   \nR2 Dec 2019 | Train | Auto mix precision support (AMP)\n   | Train | Deterministic support\n   | Train | New loss functions (Focal, Cross entropy) \n   | Train | New Models (Unet, Unet parallel, Alexnet)\n   | Train | Smart Caching \n   | AIAA | PyTorch support\n   | AIAA | 3D slicer as a client \n   | Federated learning | New feature \nR3 April 2020 | Train | New optimizer (NovoGrad)\n   | Train | New pipeline (Keras)\n   | Train | New Batch with Caching\n   | AIAA | Deep Grow model\n   | AutoML| New Feature \nR3.1 Nov 2020 | Train | AMP show 40% memory reduction with BN\n   | AIAA | Ability to run AIAA using docker in user mode/ singularity\n   | AutoML| New admin console \n   | AutoML| Expose more APIs to integrate with 3rd parties as MLflow  \n   | Federated learning | New provisioning paradigm   \n   | Federated learning | Running FL experiments from Admin shell    \n   | Federated learning | Bring your own aggregation and privacy  \n\n",
      "metadata": {
        "pycharm": {
          "metadata": false
        }
      }
    },
    {
      "cell_type": "markdown",
      "source": "In order to get you started as quickly as possible, we have included a sample data set in the sampleData folder. \nThis sample dataset will be used to explain concepts throughout different notebooks. \nHowever, the realistic problem and [performance comparisons notebook](#baseline), user would need \nto download a dataset segmentation task using the spleen dataset from the \u003ca href\u003d\"http://medicaldecathlon.com/\"\u003eMedical Decathlon Challenge\u003c/a\u003e  \n",
      "metadata": {
        "pycharm": {
          "metadata": false
        }
      }
    },
    {
      "cell_type": "markdown",
      "source": "## Resources\nYou could watch the free GTC 2020 talks covering Clara Train SDK \n- [S22563](https://developer.nvidia.com/gtc/2020/video/S22563)\nClara train Getting started: cover basics, BYOC, AIAA, AutoML \n- [S22717](https://developer.nvidia.com/gtc/2020/video/S22717)\nClara train Performance: Different aspects of acceleration in train V3\n- [S22564](https://developer.nvidia.com/gtc/2020/video/S22564)\nClara Developer Day: Federated Learning using Clara Train SDK\n",
      "metadata": {
        "pycharm": {
          "metadata": false
        }
      }
    },
    {
      "cell_type": "markdown",
      "source": "# List of Notebooks \n        \nThis package consists of multiple notebooks that explains the main concepts and features of Clara Train. \nTheses notebooks are:\u003cbr\u003e ",
      "metadata": {
        "pycharm": {
          "metadata": false
        }
      }
    },
    {
      "cell_type": "markdown",
      "source": "1. [Getting Started](./GettingStarted/GettingStarted.ipynb)\u003cbr\u003e \nThe purpose of this notebook is to get you familiar with clara train main concepts by training a CNN. \n  explains main concepts of clara train including: \n  Structure of Medical Model ARchive (MMAR); \nCheck sample data for segmentation problem; \nUnderstand train config; \nHow to train from scratch; \nTrain with multiple GPUs; \nExport a model; \nPerform inference and validation; \nUse DLpofile for profiling \u003cspan style\u003d\"color:red\"\u003e (New in V3.1)\u003c/span\u003e  ",
      "metadata": {
        "pycharm": {
          "metadata": false
        }
      }
    },
    {
      "cell_type": "markdown",
      "source": "2. [Bring your own components](GettingStarted/BYOC.ipynb)\u003cbr\u003e \nThis notebook covers: \n    - Your network architecture \n    - Your data loader \n    - Your transform \n    - Your loss \n    - Your Metrics",
      "metadata": {
        "pycharm": {
          "metadata": false
        }
      }
    },
    {
      "cell_type": "markdown",
      "source": "3. [AI Assisted Annotation AIAA](AIAA/AIAA.ipynb) \u003cbr\u003e\nThis Notebook goes through AIAA by starting the server, downloading models from NGC and using the client to do annotations.",
      "metadata": {
        "pycharm": {
          "metadata": false
        }
      }
    },
    {
      "cell_type": "markdown",
      "source": "4. AutoML\n    1. [AutoML](./AutoML/AutoML.ipynb) \u003cbr\u003e\nThis notebook goes over all AutoML concepts and provide examples on how to setup different search spaces using Enums and RL\n    2. [BYOC to AutoML](./AutoML/AutoML_BYOC.ipynb) \u003cspan style\u003d\"color:red\"\u003e(New in V3.1)\u003c/span\u003e \u003cbr\u003e \n    Notebook showing how to:\n        1. Write your own random controller logic \n        2. Write your own handler to export metric to Mlflow\n        3. Use AutoML admin console to control workers and jobs\n",
      "metadata": {
        "pycharm": {
          "metadata": false
        }
      }
    },
    {
      "cell_type": "markdown",
      "source": "5. [Performance and Acceleration Basics](./Performance/Performance.ipynb) \u003cbr\u003e\nThis Notebook goes over different options available in clara train in order to achieve high performance including using: \n    1. Batch by Transform\n    2. Smart Cache\n    3. Smart Cache + Batch by transform\n",
      "metadata": {
        "pycharm": {
          "metadata": false,
          "name": "#%% md\n"
        }
      }
    },
    {
      "cell_type": "markdown",
      "source": "6. [Spleen Segmentation PipeLine Acceleration](./Performance/PerformanceSpleen.ipynb) \u003cbr\u003e\nThis notebook applies different acceleration option to the spleen segmentation problem available from medical decathlon challenge \n",
      "metadata": {
        "pycharm": {
          "metadata": false
        }
      }
    },
    {
      "cell_type": "markdown",
      "source": "7. Federated Learning \u003cbr\u003e\nIn order to understand the concept of federated learning, \nwe provide a couple of notebooks that all run from within the same docker.  \n    1. [Federated learning](FL/FederatedLearning.ipynb) \u003cspan style\u003d\"color:red\"\u003e(New in V3.1)\u003c/span\u003e\n    2. [Provisioning Notebook](FL/Provisioning.ipynb) \u003cspan style\u003d\"color:red\"\u003e(New in V3.1)\u003c/span\u003e\n    3. [Client Notebook](FL/Client.ipynb) \u003cspan style\u003d\"color:red\"\u003e(New in V3.1)\u003c/span\u003e\n    4. [Administration of FL experiment](FL/Admin.ipynb) \u003cspan style\u003d\"color:red\"\u003e(New in V3.1)\u003c/span\u003e\n    5. [Bring your own Component to FL](FL/Admin_BYOC.ipynb) \u003cspan style\u003d\"color:red\"\u003e(New in V3.1)\u003c/span\u003e Showing different privacy settings, BYO privacy and Aggregation\n",
      "metadata": {
        "pycharm": {
          "metadata": false,
          "name": "#%% md\n"
        }
      }
    },
    {
      "cell_type": "markdown",
      "source": "8. Guide to setup Clara train in the cloud [CSP](Cloud/ClaraTrainCSPs.md)\n",
      "metadata": {
        "pycharm": {
          "metadata": false
        }
      }
    }
  ],
  "metadata": {
    "language_info": {
      "codemirror_mode": {
        "name": "ipython",
        "version": 2
      },
      "file_extension": ".py",
      "mimetype": "text/x-python",
      "name": "python",
      "nbconvert_exporter": "python",
      "pygments_lexer": "ipython2",
      "version": "2.7.6"
    },
    "kernelspec": {
      "name": "pycharm-e5c8d846",
      "language": "python",
      "display_name": "PyCharm (claraTrain2.0)"
    },
    "stem_cell": {
      "cell_type": "raw",
      "source": "",
      "metadata": {
        "pycharm": {
          "metadata": false
        }
      }
    }
  },
  "nbformat": 4,
  "nbformat_minor": 0
}