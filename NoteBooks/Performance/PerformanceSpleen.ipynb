{
 "cells": [
  {
   "cell_type": "markdown",
   "metadata": {
    "pycharm": {}
   },
   "source": [
    "# Clara Train SDK Performance Comparisons For Segmentation Problem"
   ]
  },
  {
   "cell_type": "markdown",
   "metadata": {
    "pycharm": {}
   },
   "source": [
    "Clara Train SDK comes with many features that can accelerate model training speeds. This notebook will go through these features and showcase how they impact training speeds for a spleen segmentation problem. This tutorial assumes that the notebook is being run from spleen MMAR within the Clara Train docker.\n",
    "\n",
    "This notebook will work through the following performance optimizations each building on the one before:<br>\n",
    "1. [A baseline run](#baseline)\n",
    "2. [Batch By Transform (BT)](#batchByTransofm)\n",
    "3. [Smart Cache](#smart_cache)\n",
    "4. [Batch By Transform + Smart Cache TrainV2](#BT_cacheV2)\n",
    "5. [Batch By Transform + Smart Cache](#BT_cache)\n",
    "6. [Multi-GPU training](#four_gpu) "
   ]
  },
  {
   "cell_type": "markdown",
   "metadata": {
    "pycharm": {
     "metadata": false
    }
   },
   "source": [
    "This notebook will replicate results shown below with different configurations showing speedups up to 50x\n",
    "<br>![speed](screenShots/SpleenSummary.png)\n"
   ]
  },
  {
   "cell_type": "markdown",
   "metadata": {
    "pycharm": {
     "metadata": false
    }
   },
   "source": [
    "## Prerequisites\n",
    "- Familiarity with Clara Train main concepts. See [Getting Started Notebook](../GettingStarted/GettingStarted.ipynb)\n",
    "- Familiarity with Clara Train performance main concepts. See [Performance Notebook](Performance.ipynb)\n",
    "- Downloaded spleen segmentation dataset. Follow [Data Download Notebook](../../Data_Download.ipynb)\n",
    "- Having multiple GPUs is preferred   \n"
   ]
  },
  {
   "cell_type": "markdown",
   "metadata": {
    "pycharm": {
     "metadata": false
    }
   },
   "source": [
    "### Resources\n",
    "You may watch the GTC Digital 2020 talks covering Clara Train SDK \n",
    "- [S22563](https://developer.nvidia.com/gtc/2020/video/S22563)\n",
    "Clara train Getting started: cover basics, BYOC, AIAA, AutoML \n",
    "- [S22717](https://developer.nvidia.com/gtc/2020/video/S22717)\n",
    "Clara train Performance: Different aspects of acceleration in train V3\n"
   ]
  },
  {
   "cell_type": "markdown",
   "metadata": {
    "pycharm": {
     "metadata": false
    }
   },
   "source": [
    "## GPU Dashboard\n",
    "\n",
    "This notebook comes with an extension called NVDashboard for displaying GPU utilization etc inside jupyter notebooks. \n",
    "For more info please see https://github.com/rapidsai/jupyterlab-nvdashboard. This extension is already installed. \n",
    "From the left sidebar, please click on the third tab (System dashboards) and click on GPU Utilization and GPU Memory. \n",
    "Then you can drag the tab to the right side of screen to display these along with training performance.\n"
   ]
  },
  {
   "cell_type": "markdown",
   "metadata": {
    "pycharm": {
     "metadata": false
    }
   },
   "source": [
    "## DataSet \n",
    "The spleen segmentation task in this notebook performs volumetric (3D) segmentation \n",
    "of the spleen from CT images. The dataset used is Task09_Spleen.tar from \n",
    "the [Medical Segmentation Decathlon](http://medicaldecathlon.com/). \n",
    "Prior to running this notebook the data should be downloaded following \n",
    "the steps in [Data Download Notebook](../../Data_Download.ipynb).\n",
    "\n"
   ]
  },
  {
   "cell_type": "markdown",
   "metadata": {
    "pycharm": {
     "metadata": false
    }
   },
   "source": [
    "# Lets get started\n",
    "Before we get started lets check that we have an NVIDIA GPU available in the docker by running the cell below. \n",
    "For some portions of the notebook we will need to have 4GPUs available.\n"
   ]
  },
  {
   "cell_type": "code",
   "execution_count": null,
   "metadata": {
    "pycharm": {
     "metadata": false,
     "name": "#%%\n"
    }
   },
   "outputs": [],
   "source": [
    "# following command should show all gpus available \n",
    "!nvidia-smi"
   ]
  },
  {
   "cell_type": "code",
   "execution_count": null,
   "metadata": {
    "pycharm": {
     "metadata": false,
     "name": "#%%\n"
    }
   },
   "outputs": [],
   "source": [
    "# Run some imports and functions used in the notebook\n",
    "\n",
    "# Import some of the libraries that we will use throughout this notebook.\n",
    "import time\n",
    "import matplotlib.pyplot as plt; plt.rcdefaults()\n",
    "import numpy as np\n",
    "# setting up MMAR root path\n",
    "MMAR_ROOT=\"/claraDevDay/Performance/\"\n",
    "print (\"MMAR_ROOT is set to \",MMAR_ROOT)\n",
    "!ls $MMAR_ROOT\n",
    "!chmod 777 $MMAR_ROOT/commands/*\n"
   ]
  },
  {
   "cell_type": "code",
   "execution_count": null,
   "metadata": {
    "pycharm": {
     "metadata": false,
     "name": "#%%\n"
    }
   },
   "outputs": [],
   "source": [
    "# Run some imports and functions used in the notebook\n",
    "\n",
    "import time\n",
    "import matplotlib.pyplot as plt; plt.rcdefaults()\n",
    "import numpy as np\n",
    "def printFile(filePath,lnSt,lnOffset):\n",
    "    print (\"showing \",str(lnOffset),\" lines from file \",filePath, \"starting at line\",str(lnSt))\n",
    "    lnOffset=lnSt+lnOffset\n",
    "    !< $filePath head -n \"$lnOffset\" | tail -n +\"$lnSt\"\n"
   ]
  },
  {
   "cell_type": "markdown",
   "metadata": {
    "pycharm": {}
   },
   "source": [
    "## Baseline performance (65 hours) <a id='baseline'></a>"
   ]
  },
  {
   "cell_type": "markdown",
   "metadata": {
    "pycharm": {}
   },
   "source": [
    "By default, most of the features are turned off because each feature may require tweaking or user control. \n",
    "To demonstrate, we'll be using spleen MSD data to train a 3D segmentation model. Our default configuration is:\n",
    "* 96,96,96 random crops for training.\n",
    "* Transformations:\n",
    "    - LoadNifti\n",
    "    - ConvertToChannelsFirst\n",
    "    - Resample to 1x1x1\n",
    "    - ScaleIntensityRange\n",
    "    - FastCrop\n",
    "    - ScaleIntensityOscillation\n",
    "* Single GPU.\n",
    "* Adam Optimizer (available in Clara Train).\n",
    "* UNet3D (available in Clara Train)."
   ]
  },
  {
   "cell_type": "code",
   "execution_count": null,
   "metadata": {
    "pycharm": {}
   },
   "outputs": [],
   "source": [
    "confFile=MMAR_ROOT+\"/config/trn_base.json\"\n",
    "# To show the pipeline\n",
    "printFile(confFile,84,13)"
   ]
  },
  {
   "cell_type": "code",
   "execution_count": null,
   "metadata": {
    "pycharm": {
     "metadata": false,
     "name": "#%%\n"
    }
   },
   "outputs": [],
   "source": [
    "# showing the transformations\n",
    "printFile(confFile,25,50)"
   ]
  },
  {
   "cell_type": "markdown",
   "metadata": {
    "pycharm": {}
   },
   "source": [
    "Let's run the training. This is expected to take around **65** hours on Tesla V100."
   ]
  },
  {
   "cell_type": "code",
   "execution_count": null,
   "metadata": {
    "pycharm": {}
   },
   "outputs": [],
   "source": [
    "start = time.time()\n",
    "! $MMAR_ROOT/commands/train_SpleenDS.sh trn_base.json 0\n",
    "end = time.time()\n",
    "baseline_time = end-start"
   ]
  },
  {
   "cell_type": "markdown",
   "metadata": {
    "pycharm": {
     "metadata": false
    }
   },
   "source": [
    "## Batch by Transform (18.2 hours) <a id='batchByTransofm'></a>\n",
    "Typically data is moved from disk to memory then a crop is selected with an augmentation, then data is thrown away. \n",
    "With Batch by transform we take multiple batches from the same volume. \n",
    "Here, the important things to change are:\n",
    "- The pipeline:\n",
    "    - Name `SegmentationImagePipeline` \n",
    "    - The pipeline parameter `batch_by_transform:true` as\n",
    "- selecting one of the batching transforms (`CropByPosNegRatio`, `FastCropByPosNegRatio`, `CropByPosNegRatioLabelOnly` ) \n",
    "and set the batch_size\n"
   ]
  },
  {
   "cell_type": "code",
   "execution_count": null,
   "metadata": {
    "pycharm": {
     "metadata": false,
     "name": "#%%\n"
    }
   },
   "outputs": [],
   "source": [
    "confFile=MMAR_ROOT+\"/config/trn_BT.json\"\n",
    "# To show the pipeline\n",
    "printFile(confFile,86,12)\n",
    "# showing the batch by transform \n",
    "printFile(confFile,63,15)\n"
   ]
  },
  {
   "cell_type": "markdown",
   "metadata": {
    "pycharm": {
     "metadata": false
    }
   },
   "source": [
    "Running cell below would run training "
   ]
  },
  {
   "cell_type": "code",
   "execution_count": null,
   "metadata": {
    "pycharm": {
     "metadata": false,
     "name": "#%%\n"
    }
   },
   "outputs": [],
   "source": [
    "start = time.time()\n",
    "! $MMAR_ROOT/commands/train_SpleenDS.sh trn_BT.json\n",
    "end = time.time()\n",
    "bt_time = end-start\n"
   ]
  },
  {
   "cell_type": "markdown",
   "metadata": {
    "pycharm": {}
   },
   "source": [
    "## Smart Cache (9.6 hours) <a id='smart_cache'></a>\n",
    "\n",
    "The first major step in training is data pre-processing. \n",
    "Our datasets are huge and data transformation can take a long time. \n",
    "To minimzie this overhead, one idea is to cache result of transformation chain and use it for training instead. \n",
    "However, we have to be careful to only cache results that are deterministic. \n",
    "Non-deterministic transforms like **RandomRotate** still need to be applied.\n",
    "\n",
    "Here, the important things to change are:\n",
    "- The pipeline:\n",
    "    - Name `SegmentationImagePipelineWithCache` \n",
    "    - Setting parameter `batch_by_transform:false`\n",
    "    - Setting parameter **`num_cache_objects`** and **`replace_percent`** as \n",
    "\n",
    "For more info on how smart cache works and these parameters, \n",
    "please see the [smart cache documentation](https://docs.nvidia.com/clara/tlt-mi/clara-train-sdk-v3.0/nvmidl/additional_features/smart_cache.html).\n"
   ]
  },
  {
   "cell_type": "code",
   "execution_count": null,
   "metadata": {
    "pycharm": {
     "metadata": false,
     "name": "#%%\n"
    }
   },
   "outputs": [],
   "source": [
    "confFile=MMAR_ROOT+\"/config/trn_cache.json\"\n",
    "# To show the pipeline\n",
    "printFile(confFile,84,12)\n",
    "# showing the cropping transform \n",
    "printFile(confFile,63,15)"
   ]
  },
  {
   "cell_type": "markdown",
   "metadata": {
    "pycharm": {}
   },
   "source": [
    "Let's run training and measure the performance using trn_cache.json"
   ]
  },
  {
   "cell_type": "code",
   "execution_count": null,
   "metadata": {
    "pycharm": {}
   },
   "outputs": [],
   "source": [
    "start = time.time()\n",
    "! $MMAR_ROOT/commands/train_SpleenDS.sh trn_cache.json 0\n",
    "end = time.time()\n",
    "cache_time = end-start"
   ]
  },
  {
   "cell_type": "markdown",
   "metadata": {
    "pycharm": {}
   },
   "source": [
    "\n",
    "Note: Smart cache requires tuning its parameters to get the best performance.\n"
   ]
  },
  {
   "cell_type": "markdown",
   "metadata": {
    "pycharm": {
     "metadata": false
    }
   },
   "source": [
    "## Smart Cache + Batch By transform as in Train V2 (9.6 hours) <a id='smart_cache'></a>\n",
    "\n",
    "In Clara Train V2, we were able to use batch by transform in addition to caching. \n",
    "However, all batches would come for the same volume. This was done by:\n",
    "- Use pipeline `SegmentationImagePipelineWithCache`\n",
    "- Set `batch_by_transform = true`  \n",
    "- Use one of the cropping transforms as `FastCropByPosNegRatio`\n"
   ]
  },
  {
   "cell_type": "code",
   "execution_count": null,
   "metadata": {
    "pycharm": {
     "metadata": false,
     "name": "#%%\n"
    }
   },
   "outputs": [],
   "source": [
    "confFile=MMAR_ROOT+\"/config/trn_BT_cache_TrnV2.json\"\n",
    "# To show the pipeline\n",
    "printFile(confFile,87,12)\n",
    "# showing the cropping transorm \n",
    "printFile(confFile,64,15)"
   ]
  },
  {
   "cell_type": "markdown",
   "metadata": {
    "pycharm": {
     "metadata": false
    }
   },
   "source": [
    "Let's run training and measure the performance using trn_cache.json"
   ]
  },
  {
   "cell_type": "code",
   "execution_count": null,
   "metadata": {
    "pycharm": {
     "metadata": false,
     "name": "#%%\n"
    }
   },
   "outputs": [],
   "source": [
    "start = time.time()\n",
    "! $MMAR_ROOT/commands/train_SpleenDS.sh trn_BT_cache_TrnV2.json 0\n",
    "end = time.time()\n",
    "bt_cacheV2_time = end-start\n"
   ]
  },
  {
   "cell_type": "markdown",
   "metadata": {
    "pycharm": {
     "metadata": false
    }
   },
   "source": [
    "## Smart Cache + Batch By transform (4.4 hours) <a id='smart_cache'></a>\n",
    "We can combine smart cache and batch by transform by doing the following:\n",
    "- Use pipeline `SegmentationImagePipelineWithCache`\n",
    "- Set `batch_by_transform = false`\n",
    "- Add a `batch_transforms` to merge extra dims\n",
    "Note: Smart cache requires tuning its parameters to get the best performance."
   ]
  },
  {
   "cell_type": "code",
   "execution_count": null,
   "metadata": {
    "pycharm": {
     "metadata": false,
     "name": "#%%\n"
    }
   },
   "outputs": [],
   "source": [
    "confFile=MMAR_ROOT+\"/config/trn_BT_cache.json\"\n",
    "# To show batch_transforms section\n",
    "printFile(confFile,96,12)\n",
    "# showing the batch by transform \n",
    "printFile(confFile,64,15)\n",
    "# To show the pipeline\n",
    "printFile(confFile,86,8)\n"
   ]
  },
  {
   "cell_type": "markdown",
   "metadata": {
    "pycharm": {
     "metadata": false
    }
   },
   "source": [
    "Let's run training and measure the performance using trn_cache.json"
   ]
  },
  {
   "cell_type": "code",
   "execution_count": null,
   "metadata": {
    "pycharm": {
     "metadata": false,
     "name": "#%%\n"
    }
   },
   "outputs": [],
   "source": [
    "start = time.time()\n",
    "# !./train_cache.sh\n",
    "! $MMAR_ROOT/commands/train_SpleenDS.sh trn_BT_cache.json 0\n",
    "end = time.time()\n",
    "bt_cache_time = end-start\n"
   ]
  },
  {
   "cell_type": "markdown",
   "metadata": {
    "pycharm": {}
   },
   "source": [
    "## Multiple GPUs (1.5 hours)<a id='four_gpu'></a>"
   ]
  },
  {
   "cell_type": "markdown",
   "metadata": {
    "pycharm": {}
   },
   "source": [
    "Now we can explore the power of multiple GPUs. Let's bump up the number of GPUs to 4 and see the improvement."
   ]
  },
  {
   "cell_type": "code",
   "execution_count": null,
   "metadata": {
    "pycharm": {}
   },
   "outputs": [],
   "source": [
    "start = time.time()\n",
    "! $MMAR_ROOT/commands/train_NgpuSpleenDS.sh trn_novograd_4gpu.json\n",
    "end = time.time()\n",
    "four_gpu_time = end-start"
   ]
  },
  {
   "cell_type": "markdown",
   "metadata": {
    "pycharm": {}
   },
   "source": [
    "As we can see, our training time has now reduced to only **1.5** hours.\n"
   ]
  },
  {
   "cell_type": "markdown",
   "metadata": {
    "pycharm": {
     "metadata": false
    }
   },
   "source": [
    "Finally lets plot the results for all experiments we did. \n",
    "Cell below replace any missing/skipped experiment with our experiment numbers"
   ]
  },
  {
   "cell_type": "code",
   "execution_count": 1,
   "metadata": {
    "pycharm": {}
   },
   "outputs": [],
   "source": [
    "try: baseline_time\n",
    "except NameError: baseline_time = 233779\n",
    "\n",
    "try: bt_time\n",
    "except NameError: bt_time = 65385\n",
    "    \n",
    "try: cache_time\n",
    "except NameError: cache_time = 34667\n",
    "    \n",
    "try: bt_cacheV2_time\n",
    "except NameError: bt_cacheV2_time = 34408\n",
    "    \n",
    "try: bt_cache_time\n",
    "except NameError: bt_cache_time = 15817\n",
    "    \n",
    "try: four_gpu_time\n",
    "except NameError: four_gpu_time = 5486\n",
    "    \n",
    "    "
   ]
  },
  {
   "cell_type": "code",
   "execution_count": 4,
   "metadata": {
    "pycharm": {}
   },
   "outputs": [
    {
     "data": {
      "image/png": "[encoded data removed]",
      "text/plain": [
       "<Figure size 1440x720 with 1 Axes>"
      ]
     },
     "metadata": {
      "needs_background": "light"
     },
     "output_type": "display_data"
    }
   ],
   "source": [
    "objects = ('Baseline', 'Batch By Trans', 'Cache', 'BT Cache V2', 'BT Cache V3', '4 GPUs')\n",
    "y_pos = np.arange(len(objects))\n",
    "performance = [baseline_time, bt_time, cache_time, bt_cacheV2_time,bt_cache_time, four_gpu_time]\n",
    "convert_to_hours = 60*60\n",
    "performance_hours = [t / convert_to_hours for t in performance]\n",
    "\n",
    "plt.rcParams[\"figure.figsize\"] = (20,10)\n",
    "plt.bar(y_pos, performance_hours, align='center', alpha=0.5)\n",
    "plt.xticks(y_pos, objects)\n",
    "plt.ylabel('Time (s)')\n",
    "plt.title('Training Time')\n",
    "\n",
    "plt.show()\n",
    "\n"
   ]
  },
  {
   "cell_type": "markdown",
   "metadata": {
    "pycharm": {
     "metadata": false,
     "name": "#%% md\n"
    }
   },
   "source": [
    "# Exercise \n",
    "\n",
    "1. You should change batch size from 3x4 to 2x6 for batch by transform + cache \n",
    "running on 4 gpus to see a drop from 1.5 hrs to 1.2 hours\n",
    "\n",
    "2. You could change config to enable Automatic Mixed Precision (AMP). \n",
    "Automatic Mixed precision is a technology that allows training with half-precision where possible thus maximizing training accuracy and performance. \n",
    "As an added benefit, the memory consumption can also be reduced. \n",
    "_Note_ that AMP is still a feature in development and continues to improve so your mileage may vary depending on what layers the model have. \n",
    "_Hint_ To activate AMP in our training set the following in your config\n",
    "````\n",
    "\"use_amp\": true\n",
    "````\n",
    "for example checkout [config/config_train_novograd_amp.json](config/config_train_novograd_amp.json)\n",
    "\n",
    "3. You could try changing the optimizer to novograd optimizer from nvidia instead of Adam optimizer. \n",
    "NovoGrad converges faster hence reducing overall training time. \n",
    "It is available at https://github.com/NVIDIA/OpenSeq2Seq/blob/master/open_seq2seq/optimizers/novograd.py. \n",
    "we enable this by changing the optimizer to NovoGrad \n",
    "````\n",
    "  \"optimizer\": {\n",
    "    \"name\": \"NovoGrad\"\n",
    "  },\n",
    "````\n",
    "_Hint_ you could checkout [config/trn_novograd.json](config/trn_novograd.json)\n",
    "As we notice, the training time per epoch is mostly consistent with previous times. \n",
    "However, our model converges to best accuracy faster.\n",
    "\n"
   ]
  }
 ],
 "metadata": {
  "kernelspec": {
   "display_name": "Python 3",
   "language": "python",
   "name": "python3"
  },
  "language_info": {
   "codemirror_mode": {
    "name": "ipython",
    "version": 3
   },
   "file_extension": ".py",
   "mimetype": "text/x-python",
   "name": "python",
   "nbconvert_exporter": "python",
   "pygments_lexer": "ipython3",
   "version": "3.7.5"
  }
 },
 "nbformat": 4,
 "nbformat_minor": 4
}
