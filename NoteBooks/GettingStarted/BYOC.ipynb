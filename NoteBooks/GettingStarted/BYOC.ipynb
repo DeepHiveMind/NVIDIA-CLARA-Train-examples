{
  "cells": [
    {
      "cell_type": "markdown",
      "metadata": {
        "collapsed": true,
        "pycharm": {
          "name": "#%% md\n"
        }
      },
      "source": [
        "# Bring your own components (BYOC)\n",
        "\n",
        "Clara Train SDK is modular and flexible enough to allow researchers to bring their own components including:\n",
        "1. [Transformations](https://docs.nvidia.com/clara/tlt-mi/clara-train-sdk-v3.0/nvmidl/byom.html#bring-your-own-transformation) \n",
        "2. [Loss functions](https://docs.nvidia.com/clara/tlt-mi/clara-train-sdk-v3.0/nvmidl/byom.html#bring-your-own-loss)\n",
        "3. [Model Architecture](https://docs.nvidia.com/clara/tlt-mi/clara-train-sdk-v3.0/nvmidl/byom.html#bring-your-own-model)\n",
        "4. [Loaders](https://docs.nvidia.com/clara/tlt-mi/clara-train-sdk-v3.0/nvmidl/byom.html#bring-your-own-data-loader)\n",
        "5. [Metrics](https://docs.nvidia.com/clara/tlt-mi/clara-train-sdk-v3.0/nvmidl/byom.html#bring-your-own-metric)\n",
        "\n",
        "By the end of this notebook you should be able to bring your own components mentioned above.\n"
      ]
    },
    {
      "cell_type": "markdown",
      "metadata": {
        "pycharm": {
          "metadata": false
        }
      },
      "source": [
        "## Prerequisites\n",
        "- Familiar with Clara train main concepts. See [Getting Started Notebook](../GettingStarted/GettingStarted.ipynb)\n",
        "- Nvidia GPU with 8Gb of memory   \n"
      ]
    },
    {
      "cell_type": "markdown",
      "metadata": {
        "pycharm": {
          "metadata": false
        }
      },
      "source": [
        "### Resources\n",
        "It might be helpful to watch the free GTC Digital 2020 talk covering the Clara Train SDK \n",
        "- [S22563](https://developer.nvidia.com/gtc/2020/video/S22563)\n",
        "Clara train Getting started: cover basics, BYOC, AIAA, AutoML \n"
      ]
    },
    {
      "cell_type": "markdown",
      "metadata": {
        "pycharm": {
          "metadata": false
        }
      },
      "source": [
        "## Dataset \n",
        "This notebook uses a sample dataset (ie. a single image of a spleen dataset) provided in the package to train a small neural network for a few epochs. \n",
        "This single file is duplicated 32 times for the training set and 9 times for the validation set to mimic the full spleen dataset. \n",
        "    "
      ]
    },
    {
      "cell_type": "markdown",
      "metadata": {
        "pycharm": {
          "metadata": false
        }
      },
      "source": [
        "# Lets get started\n",
        "It is helpful to check that we have an NVIDIA GPU available in the docker by running the cell below"
      ]
    },
    {
      "cell_type": "code",
      "execution_count": null,
      "metadata": {
        "pycharm": {
          "metadata": false,
          "name": "#%%\n"
        }
      },
      "outputs": [],
      "source": [
        "# following command should show all gpus available \n",
        "!nvidia-smi"
      ]
    },
    {
      "cell_type": "markdown",
      "metadata": {
        "pycharm": {
          "metadata": false
        }
      },
      "source": [
        "# General Concept\n",
        "You can easily BYOC into Clara Train SDK by writing your python code then point to it in the `config.json` using `path` instead of the `name` tag. \n",
        "Throughout this notebook we have placed all of our examples from our documentations into the [BYOC](BYOC) folder. \n",
        "\n",
        "Normal | BYOC  \n",
        " --- | ---  \n",
        "{\u003cbr\u003e\"name\": \"CropFixedSizeRandomCenter\", \u003cbr\u003e \"args\": {\"fields\": \"image\"}\u003cbr\u003e } | { \u003cbr\u003e \"path\": \"myTransformation.MyAddRandomConstant\", \u003cbr\u003e \"args\": {\"fields\": \"image\"}\u003cbr\u003e } \n",
        "\n",
        " \n",
        "We modified the [set_env.sh](commands/set_env.sh) to include the path. \n",
        "Let us run the cells below that define some helper functions we will be using and see where we added the BYOC to the pythonpath\n"
      ]
    },
    {
      "cell_type": "code",
      "execution_count": null,
      "metadata": {
        "pycharm": {
          "metadata": false,
          "name": "#%%\n"
        }
      },
      "outputs": [],
      "source": "MMAR_ROOT\u003d\"/claraDevDay/GettingStarted/\"\nprint (\"setting MMAR_ROOT\u003d\",MMAR_ROOT)\n%ls $MMAR_ROOT\n\n!chmod 777 $MMAR_ROOT/commands/*\ndef printFile(filePath,lnSt,lnOffset):\n    print (\"showing \",str(lnOffset),\" lines from file \",filePath, \"starting at line\",str(lnSt))\n    lnOffset\u003dlnSt+lnOffset\n    !\u003c $filePath head -n \"$lnOffset\" | tail -n +\"$lnSt\"\n\nprintFile(MMAR_ROOT+\"/commands/set_env.sh\",0,30)\n"
    },
    {
      "cell_type": "markdown",
      "source": "## BYO Transformation: Adding random value to image pixels\nNow lets write a full transformation `MyAddRandomConstant` from scratch. For this you need to:\n1. Implement `MultiFieldTransformer`\n2. Define `transform` and `is_deterministic` functions\n\nsee how we did this in by running the cell below",
      "metadata": {
        "pycharm": {
          "metadata": false
        }
      }
    },
    {
      "cell_type": "code",
      "execution_count": null,
      "outputs": [],
      "source": "printFile(MMAR_ROOT+\"/BYOC/myTransformation.py\",16,30)\n",
      "metadata": {
        "pycharm": {
          "metadata": false,
          "name": "#%%\n"
        }
      }
    },
    {
      "cell_type": "markdown",
      "metadata": {
        "pycharm": {
          "metadata": false
        }
      },
      "source": "Now to run this we need to modify the train config by setting the `path` \nto our newly created transformation `myTransformation.MyAddRandomConstant`. \nWe also would like to debug the output so we will add the `SaveAsNifti` Transform. \nThis transform would pause the training and save batches to `out_dir` for us to check. \nNote: we set `\"interrupt\": false` in the example however, \nwhen debugging you may want to change it to true so that you would get a pause to check the batches then continue to generate more "
    },
    {
      "cell_type": "code",
      "execution_count": null,
      "metadata": {
        "pycharm": {
          "metadata": false,
          "name": "#%%\n"
        }
      },
      "outputs": [],
      "source": "configFile\u003dMMAR_ROOT+\"/config/trn_BYOC_transform.json\"\nprintFile(configFile,89,10)\n"
    },
    {
      "cell_type": "markdown",
      "metadata": {
        "pycharm": {
          "metadata": false
        }
      },
      "source": "### Run and see Debugging Data\nSo let us now run training and see the results "
    },
    {
      "cell_type": "code",
      "execution_count": null,
      "metadata": {
        "pycharm": {
          "metadata": false,
          "name": "#%%\n"
        }
      },
      "outputs": [],
      "source": [
        "! $MMAR_ROOT/commands/train_W_Config.sh trn_BYOC_transform.json\n"
      ]
    },
    {
      "cell_type": "markdown",
      "metadata": {
        "pycharm": {
          "metadata": false
        }
      },
      "source": [
        "\n",
        "Now let us see the sample images in the debug folder  "
      ]
    },
    {
      "cell_type": "code",
      "execution_count": null,
      "metadata": {
        "pycharm": {
          "metadata": false,
          "name": "#%%\n"
        }
      },
      "outputs": [],
      "source": [
        "! ls -la /claraDevDay/tmp/_debugPatches/\n"
      ]
    },
    {
      "cell_type": "markdown",
      "metadata": {
        "pycharm": {
          "metadata": false
        }
      },
      "source": [
        "## BYO Network Architecture and Loss\n",
        "Clara Train SDK also allows you to write your own network architecture as well as your loss function. \n",
        "In this example we have a shallow Unet architecture defined in [myNetworkArch.py](BYOC/myNetworkArch.py) \n",
        "as well as our own dice loss defined in [myLoss.py](BYOC/myLoss.py). \n",
        "Let us see how it is defined   "
      ]
    },
    {
      "cell_type": "code",
      "execution_count": null,
      "metadata": {
        "pycharm": {
          "metadata": false,
          "name": "#%%\n"
        }
      },
      "outputs": [],
      "source": [
        "printFile(MMAR_ROOT+\"/BYOC/myNetworkArch.py\",0,30)\n",
        "printFile(MMAR_ROOT+\"/BYOC/myLoss.py\",0,30)"
      ]
    },
    {
      "cell_type": "markdown",
      "metadata": {
        "pycharm": {
          "metadata": false
        }
      },
      "source": [
        "Let us Examine the config file [trn_BYOC_Arch_loss.json](config/trn_BYOC_Arch_loss.json) "
      ]
    },
    {
      "cell_type": "code",
      "execution_count": null,
      "metadata": {
        "pycharm": {
          "metadata": false,
          "name": "#%%\n"
        }
      },
      "outputs": [],
      "source": [
        "configFile\u003dMMAR_ROOT+\"/config/trn_BYOC_Arch_loss.json\"\n",
        "printFile(configFile,10,6)\n",
        "printFile(configFile,21,6)\n"
      ]
    },
    {
      "cell_type": "markdown",
      "metadata": {
        "pycharm": {
          "metadata": false
        }
      },
      "source": [
        "Now let us train our network  "
      ]
    },
    {
      "cell_type": "code",
      "execution_count": null,
      "metadata": {
        "pycharm": {
          "metadata": false,
          "name": "#%%\n"
        }
      },
      "outputs": [],
      "source": [
        "\n",
        "! $MMAR_ROOT/commands/train_W_Config.sh trn_BYOC_Arch_loss.json\n"
      ]
    },
    {
      "cell_type": "markdown",
      "metadata": {
        "pycharm": {
          "metadata": false
        }
      },
      "source": [
        "## BYO Data Loader\n",
        "For this example we will see how to use a custom loader specifically to load a numpy file. \n",
        "To do this, we first load our nii.gz file and save it a np.  "
      ]
    },
    {
      "cell_type": "code",
      "execution_count": null,
      "metadata": {
        "pycharm": {
          "metadata": false,
          "name": "#%%\n"
        }
      },
      "outputs": [],
      "source": [
        "import nibabel as nib\n",
        "import numpy as np\n",
        "dataRoot\u003d\"/claraDevDay/sampleData/\"\n",
        "for imgLb in [\"imagesTr\",\"labelsTr\"]:\n",
        "    filename\u003d dataRoot+imgLb+\"/spleen_8.nii.gz\"\n",
        "    img \u003d nib.load(filename)\n",
        "    data \u003d img.get_fdata()\n",
        "    np.save(filename[:-7]+\".npy\",data)\n",
        "!ls -ls $dataRoot/imagesTr\n",
        "!ls -ls $dataRoot/labelsTr"
      ]
    },
    {
      "cell_type": "markdown",
      "metadata": {
        "pycharm": {
          "metadata": false
        }
      },
      "source": [
        "Now that we have a numpy files, we will change the [trn_BYOC_DataLoader.json](config/trn_BYOC_DataLoader.json) \n",
        "to point to MyNumpyLoader. Let us take a look at the configuration file changes"
      ]
    },
    {
      "cell_type": "code",
      "execution_count": null,
      "metadata": {
        "pycharm": {
          "metadata": false,
          "name": "#%%\n"
        }
      },
      "outputs": [],
      "source": [
        "configFile\u003dMMAR_ROOT+\"/config/trn_BYOC_DataLoader.json\"\n",
        "printFile(configFile,23,9)"
      ]
    },
    {
      "cell_type": "markdown",
      "metadata": {
        "pycharm": {
          "metadata": false
        }
      },
      "source": [
        "Now let us check the code written for loading from numpy in the [myNpLoader.py](BYOC/myNpLoader.py) file."
      ]
    },
    {
      "cell_type": "code",
      "execution_count": null,
      "metadata": {
        "pycharm": {
          "metadata": false,
          "name": "#%%\n"
        }
      },
      "outputs": [],
      "source": [
        "configFile\u003dMMAR_ROOT+\"/BYOC/myNpLoader.py\"\n",
        "printFile(configFile,0,27)"
      ]
    },
    {
      "cell_type": "markdown",
      "metadata": {
        "pycharm": {
          "metadata": false
        }
      },
      "source": [
        "\n",
        "\n",
        "Now let us run training by running the cell below"
      ]
    },
    {
      "cell_type": "code",
      "execution_count": null,
      "metadata": {
        "pycharm": {
          "metadata": false,
          "name": "#%%    \n"
        }
      },
      "outputs": [],
      "source": [
        "! $MMAR_ROOT/commands/train_W_Config.sh trn_BYOC_DataLoader.json \"/claraDevDay/sampleData/dataset_28GB_npy.json\"\n"
      ]
    },
    {
      "cell_type": "markdown",
      "metadata": {
        "pycharm": {
          "metadata": false
        }
      },
      "source": [
        "# Exercise\n",
        "\n",
        "1. Modify the custom loss file to be a weighted dice loss per label.\n",
        "Tips:\n",
        "    1. Code below is already in the [myLoss.py](BYOC/myLoss.py) after the is skip background if statement, you just need to uncomment it\n",
        "    ```\n",
        "    if label_weights is not None:\n",
        "        label_weights \u003d label_weights[1:]\n",
        "    ```\n",
        "    2. Similarly uncomment the lines below that are already in the same function to multiply the weights given with the loss  \n",
        "    ``` \n",
        "    if label_weights is not None:  add wights to labels\n",
        "        print(\"\u003d\u003d\u003d\u003d\u003d\u003d\u003d\u003d\u003d\u003d Debug research intersection.shape\u003d\", intersection.shape)\n",
        "        w \u003d tf.constant(label_weights, dtype\u003dtf.float32)\n",
        "        intersection \u003d tf.multiply(w, intersection)\n",
        "        print(\"\u003d\u003d\u003d\u003d\u003d\u003d\u003d\u003d\u003d\u003d Debug research intersection.shape\u003d\", intersection.shape)\n",
        "    \n",
        "    ```\n",
        "    3. You need to pass the weights into these functions\n",
        "2. You can use code in [myMetric.py](BYOC/myMetric.py) and customize it to bring your own metric\n"
      ]
    }
  ],
  "metadata": {
    "kernelspec": {
      "display_name": "Python 3",
      "language": "python",
      "name": "python3"
    },
    "language_info": {
      "codemirror_mode": {
        "name": "ipython",
        "version": 3
      },
      "file_extension": ".py",
      "mimetype": "text/x-python",
      "name": "python",
      "nbconvert_exporter": "python",
      "pygments_lexer": "ipython3",
      "version": "3.7.5"
    },
    "stem_cell": {
      "cell_type": "raw",
      "source": "\u003c!--- SPDX-License-Identifier: Apache-2.0 --\u003e\n",
      "metadata": {
        "pycharm": {
          "metadata": false
        }
      }
    }
  },
  "nbformat": 4,
  "nbformat_minor": 1
}